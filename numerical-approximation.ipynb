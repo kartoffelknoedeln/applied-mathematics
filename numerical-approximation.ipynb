{
 "cells": [
  {
   "cell_type": "markdown",
   "metadata": {},
   "source": [
    "# Numerical approximation"
   ]
  },
  {
   "cell_type": "markdown",
   "metadata": {},
   "source": [
    "- - - - - - - - - - - - - - -"
   ]
  },
  {
   "cell_type": "markdown",
   "metadata": {},
   "source": [
    "Numerical approximation is the field that deploys computer algorithms to find a certain answer or set of answers of a series of equations up to an acceptable error tolerance, which is numerical variation allowed in results. The following topics will be covered:\n",
    "- Least squares fitting\n",
    "    - Linear\n",
    "    - Nonlinear\n",
    "        - Polynomial\n",
    "        - Euler\n",
    "    - Trigonometric\n",
    "- Fast Fourier transform\n",
    "- Power iteration\n",
    "- Wielandt deflation\n",
    "- QR decomposition\n",
    "- Householder transformation\n",
    "\n",
    "Further readings and useful links are also provided at the bottom."
   ]
  },
  {
   "cell_type": "markdown",
   "metadata": {},
   "source": [
    "- - - - - - - - - - - - - - -"
   ]
  },
  {
   "cell_type": "markdown",
   "metadata": {},
   "source": [
    "### Least squares fitting"
   ]
  },
  {
   "cell_type": "markdown",
   "metadata": {},
   "source": [
    "Least squares fitting is an algorithm at finding the best-fitting curve given a set of points by minimising the sum of the squares of the offsets of the points from the curve.\n",
    "\n",
    "Official definition here: https://mathworld.wolfram.com/LeastSquaresFitting.html\n",
    "\n",
    "The idea is, once with enough data points, it's easy to model the curve and provide predictions. This is very, very useful in statistics"
   ]
  },
  {
   "cell_type": "code",
   "execution_count": 1,
   "metadata": {},
   "outputs": [],
   "source": [
    "from pprint import pprint\n",
    "import numpy as np\n",
    "import sympy as sp\n",
    "from numpy import linalg as LA\n",
    "import scipy.integrate as integrate\n",
    "import matplotlib.pyplot as plt\n",
    "import pandas as pd"
   ]
  },
  {
   "cell_type": "markdown",
   "metadata": {},
   "source": [
    "#### Linear"
   ]
  },
  {
   "cell_type": "code",
   "execution_count": 2,
   "metadata": {},
   "outputs": [],
   "source": [
    "def linearLeastSquares(x, y):\n",
    "    '''The linear least-squares algorithm is already part of Numpy's library:'''\n",
    "    '''https://numpy.org/doc/stable/reference/generated/numpy.linalg.lstsq.html'''\n",
    "    A = np.vstack([x, np.ones(len(x))]).T\n",
    "    m, c = np.linalg.lstsq(A, y, rcond=None)[0]\n",
    "\n",
    "    return m, c\n",
    "\n",
    "x = np.array([0, 1, 2, 3])\n",
    "y = np.array([1, 2, 3, 6])"
   ]
  },
  {
   "cell_type": "markdown",
   "metadata": {},
   "source": [
    "The following chart displays the given points and its linear fit."
   ]
  },
  {
   "cell_type": "code",
   "execution_count": 3,
   "metadata": {},
   "outputs": [
    {
     "name": "stdout",
     "output_type": "stream",
     "text": [
      "For y = mx + c\n",
      "m, c\n",
      "array([1.6, 0.6])\n"
     ]
    },
    {
     "data": {
      "image/png": "[encoded data removed]",
      "text/plain": [
       "<Figure size 432x288 with 1 Axes>"
      ]
     },
     "metadata": {
      "needs_background": "light"
     },
     "output_type": "display_data"
    }
   ],
   "source": [
    "m, c = linearLeastSquares(x, y)\n",
    "\n",
    "print('For y = mx + c')\n",
    "print('m, c')\n",
    "pprint(np.array([m, c]))\n",
    "\n",
    "plt.plot(x, y, 'o', label='Original data', markersize=10)\n",
    "plt.plot(x, m*x + c, 'r', label='Fitted line')\n",
    "plt.legend()\n",
    "plt.show()"
   ]
  },
  {
   "cell_type": "markdown",
   "metadata": {},
   "source": [
    "#### Polynomial"
   ]
  },
  {
   "cell_type": "code",
   "execution_count": 4,
   "metadata": {},
   "outputs": [],
   "source": [
    "def nonlinearPLeastSquares(x, y):\n",
    "    '''The nonlinear least-squares algorithm can be reduced to the polyfit function, which is already part of Numpy's library:'''\n",
    "    '''https://numpy.org/doc/stable/reference/generated/numpy.polyfit.html?highlight=polyfit#numpy.polyfit'''\n",
    "    curve = np.polyfit(x, y, 2)\n",
    "    return curve\n",
    "\n",
    "x = np.array([0, 1, 2, 3])\n",
    "y = np.array([1, 2, 3, 6])"
   ]
  },
  {
   "cell_type": "markdown",
   "metadata": {},
   "source": [
    "The following chart displays the given points and its polynomial fit."
   ]
  },
  {
   "cell_type": "code",
   "execution_count": 5,
   "metadata": {},
   "outputs": [
    {
     "name": "stdout",
     "output_type": "stream",
     "text": [
      "For y = Ax^2 + Bx + C\n",
      "A, B, C\n",
      "array([0.5, 0.1, 1.1])\n"
     ]
    },
    {
     "data": {
      "image/png": "[encoded data removed]",
      "text/plain": [
       "<Figure size 432x288 with 1 Axes>"
      ]
     },
     "metadata": {
      "needs_background": "light"
     },
     "output_type": "display_data"
    }
   ],
   "source": [
    "curve = nonlinearPLeastSquares(x, y)\n",
    "\n",
    "print('For y = Ax^2 + Bx + C')\n",
    "print('A, B, C')\n",
    "pprint(curve)\n",
    "\n",
    "plt.plot(x, y, 'o', label='Original data', markersize=10)\n",
    "plt.plot(x, curve[0]*x**2 + curve[1]*x + curve[2], 'r', label='Fitted line')\n",
    "plt.legend()\n",
    "plt.show()"
   ]
  },
  {
   "cell_type": "markdown",
   "metadata": {},
   "source": [
    "#### Euler"
   ]
  },
  {
   "cell_type": "code",
   "execution_count": 6,
   "metadata": {},
   "outputs": [],
   "source": [
    "def nonlinearELeastSquares(x, y):\n",
    "    '''For the Euler function, we need to find the length of the array and the natural log of y.'''\n",
    "    m = len(x)\n",
    "    ln_y = np.log(y)\n",
    "    xln_y = x*np.log(y)\n",
    "\n",
    "    '''Variables a and b are dependent on the summations of the following functions.'''\n",
    "    x_sum = np.sum(x)\n",
    "    y_sum = np.sum(y)\n",
    "    x2_sum = np.sum(x**2)\n",
    "    ln_y_sum = np.sum(ln_y)\n",
    "    xln_y_sum = np.sum(xln_y)\n",
    "\n",
    "    '''a is defined as (m*SUM(xln_y) - SUM(x)*SUM(ln_y))/(m*SUM(x**2) - (SUM(x)**2)).'''\n",
    "    a = (m*xln_y_sum - x_sum*ln_y_sum)/(m*x2_sum - (x_sum)**2)\n",
    "    \n",
    "    '''ln(b) is defined as (SUM(x**2)*SUM(xln_y) - SUM(x*ln(y))*SUM(x))/(m*SUM(x**2) - (SUM(x)**2)).'''\n",
    "    ln_b = (x2_sum*ln_y_sum - xln_y_sum*x_sum)/(m*x2_sum - (x_sum)**2)\n",
    "    '''where b is e**(ln(b)).'''\n",
    "    b = np.exp(ln_b)\n",
    "\n",
    "    return a, b\n",
    "\n",
    "x = np.array([0, 1, 2, 3])\n",
    "y = np.array([1, 2, 3, 6])"
   ]
  },
  {
   "cell_type": "markdown",
   "metadata": {},
   "source": [
    "The following chart displays the given points and its Euler fit."
   ]
  },
  {
   "cell_type": "code",
   "execution_count": 7,
   "metadata": {},
   "outputs": [
    {
     "name": "stdout",
     "output_type": "stream",
     "text": [
      "For y = b*e^(ax)\n",
      "A, B\n",
      "array([0.57807435, 1.02918601])\n"
     ]
    },
    {
     "data": {
      "image/png": "[encoded data removed]",
      "text/plain": [
       "<Figure size 432x288 with 1 Axes>"
      ]
     },
     "metadata": {
      "needs_background": "light"
     },
     "output_type": "display_data"
    }
   ],
   "source": [
    "a, b = nonlinearELeastSquares(x, y)\n",
    "\n",
    "print('For y = b*e^(ax)')\n",
    "print('A, B')\n",
    "pprint(np.array([a, b]))\n",
    "\n",
    "plt.plot(x, y, 'o', label='Original data', markersize=10)\n",
    "plt.plot(x, b*np.exp(a*x), 'r', label='Fitted line')\n",
    "plt.legend()\n",
    "plt.show()"
   ]
  },
  {
   "cell_type": "markdown",
   "metadata": {},
   "source": [
    "#### Trigonometric"
   ]
  },
  {
   "cell_type": "code",
   "execution_count": 8,
   "metadata": {},
   "outputs": [],
   "source": [
    "def trigonometricLeastSquares(f_1, f_2, degree = 2):\n",
    "    a_n = np.zeros([])\n",
    "    b_n = np.zeros([])\n",
    "    \n",
    "    '''For the trigonometric least-squares algorithm, the following integrations will be used. This is where the scipy library is called.'''\n",
    "    for i in range(degree + 1):    \n",
    "        a = ((1/np.pi)*integrate.quad(lambda x: f_1[0]*(np.cos(i*x)), f_1[1], f_1[2])[0])+((1/np.pi)*integrate.quad(lambda x: f_2[0]*(np.cos(i*x)), f_2[1], f_2[2])[0])\n",
    "        a_n = np.insert(a_n, i, a)\n",
    "\n",
    "    for j in range(degree):\n",
    "        b = ((1/np.pi)*integrate.quad(lambda x: f_1[0]*(np.sin(i*x)), f_1[1], f_1[2])[0])+((1/np.pi)*integrate.quad(lambda x: f_2[0]*(np.sin(j*x)), f_2[1], f_2[2])[0])\n",
    "        b_n = np.insert(b_n, j, b)\n",
    "\n",
    "    return a_n, b_n\n",
    "\n",
    "f_1 = np.array([0, -np.pi, np.pi/4])\n",
    "f_2 = np.array([3, np.pi/4, np.pi])"
   ]
  },
  {
   "cell_type": "markdown",
   "metadata": {},
   "source": [
    "The following chart displays the given points and its trigonometric fit."
   ]
  },
  {
   "cell_type": "code",
   "execution_count": 9,
   "metadata": {},
   "outputs": [
    {
     "name": "stdout",
     "output_type": "stream",
     "text": [
      "Solution:\n",
      "array([ 2.25      , -0.67523724, -0.47746483,  0.        ])\n"
     ]
    },
    {
     "data": {
      "image/png": "[encoded data removed]",
      "text/plain": [
       "<Figure size 432x288 with 1 Axes>"
      ]
     },
     "metadata": {
      "needs_background": "light"
     },
     "output_type": "display_data"
    }
   ],
   "source": [
    "'''The degree here is set to 2, though it can be set higher if there's a need for it.'''\n",
    "solution = trigonometricLeastSquares(f_1, f_2, degree = 2)\n",
    "\n",
    "print('Solution:')\n",
    "pprint(solution[0])\n",
    "\n",
    "'''Note: solution[0] is a_n and solution[1] is b_n.'''\n",
    "x = np.arange(0, 4*np.pi, 0.1) ##start, stop, step\n",
    "y = (1/2)*solution[0][0] + solution[0][1]*np.cos(x) + solution[1][1]*np.sin(x) + solution[0][2]*np.cos(2*x)\n",
    "\n",
    "plt.plot(x,y)\n",
    "plt.show()"
   ]
  },
  {
   "cell_type": "markdown",
   "metadata": {},
   "source": [
    "### Fast Fourier transform"
   ]
  },
  {
   "cell_type": "markdown",
   "metadata": {},
   "source": [
    "Fast Fourier transform is an algorithm designed to reduce the number of computations needed for <i>N</i> points from $2N^2$ to $2N(log_2N)$.\n",
    "\n",
    "Official definition here: https://mathworld.wolfram.com/FastFourierTransform.html\n",
    "\n",
    "The formula can be expressed as:\n",
    "- $a_k = \\sum_{j=0}^{2m-1}{f(x_j)cos(kx_j)}$\n",
    "- $b_k = \\sum_{j=0}^{2m-1}{f(x_j)sin(kx_j)}$\n",
    "\n",
    "and\n",
    "- $S_m(x) = \\dfrac{a_0 + a_mcos(mx)}{2} + \\sum_{k=1}^{m-1}{a_kcos(kx) + b_ksin(kx)}$\n",
    "\n",
    "where $a_k$ and $b_k$ are the coefficients for $S_m(x)$."
   ]
  },
  {
   "cell_type": "code",
   "execution_count": 10,
   "metadata": {},
   "outputs": [],
   "source": [
    "def fftcosine(m):\n",
    "    '''Setting up a to be a list where the length is dependent on the degrees and how many values come out of the standard formula.'''\n",
    "    a = [0]*(2*m-1)\n",
    "    \n",
    "    '''a_k is defined to be the summation of f(x_j)*(cos(k*x_j)) from j=0 to 2m-1.'''\n",
    "    for k in range(2*m-1):\n",
    "        for j in range(2*m):\n",
    "            x = -np.pi + (j*np.pi)/m\n",
    "            a_k = (1/2)*((x**2)*np.cos(k*x))\n",
    "            a[k] += a_k\n",
    "            \n",
    "    return a\n",
    "\n",
    "def fftsine(m):\n",
    "    '''Setting up b to be a list where the length is dependent on the degrees and how many values come out of the standard formula.'''\n",
    "    b = [0]*(2*m-2)\n",
    "    \n",
    "    '''b_k is defined to be the summation of f(x_j)*(sin(k*x_j)) from j=0 to 2m-1.'''\n",
    "    for k in range(2*m-2):\n",
    "        for j in range(2*m):\n",
    "            x = -np.pi + (j*np.pi)/m\n",
    "            b_k = (1/2)*((x**2)*np.sin(k*x))\n",
    "            b[k] += b_k\n",
    "            \n",
    "    return b\n",
    "\n",
    "def fft(m, a, b):\n",
    "    '''S_m(x) = (a_0 + a_m*cos(mx))/2 + (summation) of (a_k*cos(kx) + b_k*sin(kx)) from k=1 to m-1.'''\n",
    "    S_1 = '({} + {}*cos{}x)/2'.format(a[0], a[0], m)\n",
    "    S_2 = '{}*cos(x)+{}*sin(x)'.format(a[1], b[1])\n",
    "    S = '{} + {}'.format(S_1, S_2)\n",
    "    \n",
    "    return S\n",
    "\n",
    "'''Setting the degree to be 2.'''\n",
    "m = 2\n",
    "\n",
    "'''Breaking up the Fast Fourier transform process into its sine and cosine parts before putting them back together.'''\n",
    "a = fftcosine(m)\n",
    "b = fftsine(m)\n",
    "solution = fft(m, a, b)"
   ]
  },
  {
   "cell_type": "markdown",
   "metadata": {},
   "source": [
    "The following chart displays the FFT given the domains provided."
   ]
  },
  {
   "cell_type": "code",
   "execution_count": 11,
   "metadata": {},
   "outputs": [
    {
     "name": "stdout",
     "output_type": "stream",
     "text": [
      "Solution:\n",
      "(7.402203300817019 + 7.402203300817019*cos2x)/2 + -4.934802200544679*cos(x)+-6.661338147750939e-16*sin(x)\n"
     ]
    },
    {
     "data": {
      "image/png": "[encoded data removed]",
      "text/plain": [
       "<Figure size 432x288 with 1 Axes>"
      ]
     },
     "metadata": {
      "needs_background": "light"
     },
     "output_type": "display_data"
    }
   ],
   "source": [
    "print('Solution:')\n",
    "print(solution)\n",
    "\n",
    "'''Note: solution[0] is a_n and solution[1] is b_n. This formula is the standard one, and the graphing is down below.'''\n",
    "x = np.arange(0,4*np.pi,0.1) ##start, stop, step\n",
    "y = (1/2)*(a[0] + a[0]*np.cos(2*x)) + a[1]*np.cos(x) + b[1]*np.sin(x)\n",
    "\n",
    "plt.plot(x,y)\n",
    "plt.show()"
   ]
  },
  {
   "cell_type": "markdown",
   "metadata": {},
   "source": [
    "### Power iteration"
   ]
  },
  {
   "cell_type": "markdown",
   "metadata": {},
   "source": [
    "The power method is used to find the largest eigenvalue by multiplying a matrix repeatedly. The matrix has to be diagonalisable and the vector has to be nonzero. \n",
    "\n",
    "Official definition here: http://web.mit.edu/18.06/www/Spring17/Power-Method.pdf\n",
    "\n",
    "The method also converges very slowly."
   ]
  },
  {
   "cell_type": "code",
   "execution_count": 12,
   "metadata": {},
   "outputs": [
    {
     "data": {
      "text/html": [
       "<div>\n",
       "<style scoped>\n",
       "    .dataframe tbody tr th:only-of-type {\n",
       "        vertical-align: middle;\n",
       "    }\n",
       "\n",
       "    .dataframe tbody tr th {\n",
       "        vertical-align: top;\n",
       "    }\n",
       "\n",
       "    .dataframe thead th {\n",
       "        text-align: right;\n",
       "    }\n",
       "</style>\n",
       "<table border=\"1\" class=\"dataframe\">\n",
       "  <thead>\n",
       "    <tr style=\"text-align: right;\">\n",
       "      <th></th>\n",
       "      <th>x_1</th>\n",
       "      <th>x_2</th>\n",
       "      <th>x_3</th>\n",
       "    </tr>\n",
       "  </thead>\n",
       "  <tbody>\n",
       "    <tr>\n",
       "      <th>0</th>\n",
       "      <td>0.138409</td>\n",
       "      <td>0.055364</td>\n",
       "      <td>0.055364</td>\n",
       "    </tr>\n",
       "    <tr>\n",
       "      <th>1</th>\n",
       "      <td>0.066436</td>\n",
       "      <td>0.077509</td>\n",
       "      <td>0.210382</td>\n",
       "    </tr>\n",
       "    <tr>\n",
       "      <th>2</th>\n",
       "      <td>0.096158</td>\n",
       "      <td>0.037880</td>\n",
       "      <td>0.163177</td>\n",
       "    </tr>\n",
       "    <tr>\n",
       "      <th>3</th>\n",
       "      <td>0.081068</td>\n",
       "      <td>0.045477</td>\n",
       "      <td>0.208602</td>\n",
       "    </tr>\n",
       "    <tr>\n",
       "      <th>4</th>\n",
       "      <td>0.079503</td>\n",
       "      <td>0.033586</td>\n",
       "      <td>0.175274</td>\n",
       "    </tr>\n",
       "    <tr>\n",
       "      <th>5</th>\n",
       "      <td>0.076581</td>\n",
       "      <td>0.035721</td>\n",
       "      <td>0.186065</td>\n",
       "    </tr>\n",
       "    <tr>\n",
       "      <th>6</th>\n",
       "      <td>0.076621</td>\n",
       "      <td>0.033415</td>\n",
       "      <td>0.179087</td>\n",
       "    </tr>\n",
       "    <tr>\n",
       "      <th>7</th>\n",
       "      <td>0.076024</td>\n",
       "      <td>0.034017</td>\n",
       "      <td>0.181788</td>\n",
       "    </tr>\n",
       "    <tr>\n",
       "      <th>8</th>\n",
       "      <td>0.076083</td>\n",
       "      <td>0.033513</td>\n",
       "      <td>0.180187</td>\n",
       "    </tr>\n",
       "    <tr>\n",
       "      <th>9</th>\n",
       "      <td>0.075958</td>\n",
       "      <td>0.033674</td>\n",
       "      <td>0.180859</td>\n",
       "    </tr>\n",
       "    <tr>\n",
       "      <th>10</th>\n",
       "      <td>0.075980</td>\n",
       "      <td>0.033560</td>\n",
       "      <td>0.180483</td>\n",
       "    </tr>\n",
       "    <tr>\n",
       "      <th>11</th>\n",
       "      <td>0.075953</td>\n",
       "      <td>0.033602</td>\n",
       "      <td>0.180649</td>\n",
       "    </tr>\n",
       "    <tr>\n",
       "      <th>12</th>\n",
       "      <td>0.075960</td>\n",
       "      <td>0.033575</td>\n",
       "      <td>0.180559</td>\n",
       "    </tr>\n",
       "    <tr>\n",
       "      <th>13</th>\n",
       "      <td>0.075954</td>\n",
       "      <td>0.033586</td>\n",
       "      <td>0.180600</td>\n",
       "    </tr>\n",
       "    <tr>\n",
       "      <th>14</th>\n",
       "      <td>0.075955</td>\n",
       "      <td>0.033580</td>\n",
       "      <td>0.180579</td>\n",
       "    </tr>\n",
       "    <tr>\n",
       "      <th>15</th>\n",
       "      <td>0.075954</td>\n",
       "      <td>0.033582</td>\n",
       "      <td>0.180589</td>\n",
       "    </tr>\n",
       "    <tr>\n",
       "      <th>16</th>\n",
       "      <td>0.075954</td>\n",
       "      <td>0.033581</td>\n",
       "      <td>0.180584</td>\n",
       "    </tr>\n",
       "    <tr>\n",
       "      <th>17</th>\n",
       "      <td>0.075954</td>\n",
       "      <td>0.033582</td>\n",
       "      <td>0.180586</td>\n",
       "    </tr>\n",
       "    <tr>\n",
       "      <th>18</th>\n",
       "      <td>0.075954</td>\n",
       "      <td>0.033581</td>\n",
       "      <td>0.180585</td>\n",
       "    </tr>\n",
       "    <tr>\n",
       "      <th>19</th>\n",
       "      <td>0.075954</td>\n",
       "      <td>0.033581</td>\n",
       "      <td>0.180585</td>\n",
       "    </tr>\n",
       "    <tr>\n",
       "      <th>20</th>\n",
       "      <td>0.075954</td>\n",
       "      <td>0.033581</td>\n",
       "      <td>0.180585</td>\n",
       "    </tr>\n",
       "    <tr>\n",
       "      <th>21</th>\n",
       "      <td>0.075954</td>\n",
       "      <td>0.033581</td>\n",
       "      <td>0.180585</td>\n",
       "    </tr>\n",
       "    <tr>\n",
       "      <th>22</th>\n",
       "      <td>0.075954</td>\n",
       "      <td>0.033581</td>\n",
       "      <td>0.180585</td>\n",
       "    </tr>\n",
       "    <tr>\n",
       "      <th>23</th>\n",
       "      <td>0.075954</td>\n",
       "      <td>0.033581</td>\n",
       "      <td>0.180585</td>\n",
       "    </tr>\n",
       "    <tr>\n",
       "      <th>24</th>\n",
       "      <td>0.075954</td>\n",
       "      <td>0.033581</td>\n",
       "      <td>0.180585</td>\n",
       "    </tr>\n",
       "  </tbody>\n",
       "</table>\n",
       "</div>"
      ],
      "text/plain": [
       "         x_1       x_2       x_3\n",
       "0   0.138409  0.055364  0.055364\n",
       "1   0.066436  0.077509  0.210382\n",
       "2   0.096158  0.037880  0.163177\n",
       "3   0.081068  0.045477  0.208602\n",
       "4   0.079503  0.033586  0.175274\n",
       "5   0.076581  0.035721  0.186065\n",
       "6   0.076621  0.033415  0.179087\n",
       "7   0.076024  0.034017  0.181788\n",
       "8   0.076083  0.033513  0.180187\n",
       "9   0.075958  0.033674  0.180859\n",
       "10  0.075980  0.033560  0.180483\n",
       "11  0.075953  0.033602  0.180649\n",
       "12  0.075960  0.033575  0.180559\n",
       "13  0.075954  0.033586  0.180600\n",
       "14  0.075955  0.033580  0.180579\n",
       "15  0.075954  0.033582  0.180589\n",
       "16  0.075954  0.033581  0.180584\n",
       "17  0.075954  0.033582  0.180586\n",
       "18  0.075954  0.033581  0.180585\n",
       "19  0.075954  0.033581  0.180585\n",
       "20  0.075954  0.033581  0.180585\n",
       "21  0.075954  0.033581  0.180585\n",
       "22  0.075954  0.033581  0.180585\n",
       "23  0.075954  0.033581  0.180585\n",
       "24  0.075954  0.033581  0.180585"
      ]
     },
     "execution_count": 12,
     "metadata": {},
     "output_type": "execute_result"
    }
   ],
   "source": [
    "def PowerMethod(A, b, step = 25):\n",
    "    \n",
    "    '''Let b be the starting vector, and for this example, it'll be done in 25 steps.'''\n",
    "    results = []\n",
    "    \n",
    "    for i in range(step):\n",
    "        '''Updates p as the max value of the array and this is needed to be done through every iteration.'''\n",
    "        p = np.amax(b)\n",
    "        \n",
    "        '''Resets b after dividing the array with the max value.'''\n",
    "        b = b/p\n",
    "        \n",
    "        '''Dot product of the original matrix A and the updated array b.'''\n",
    "        b = np.dot(A, b)\n",
    "        \n",
    "        results.append(b)\n",
    "    \n",
    "    return results\n",
    "\n",
    "A = np.array([[0,2,1],[1,1,0],[3,0,2]])\n",
    "b = np.array([0,2,1])\n",
    "\n",
    "solution = PowerMethod(A, b, step = 25)\n",
    "\n",
    "df = pd.DataFrame(solution/np.linalg.norm(solution))\n",
    "df.rename(columns = {0:'x_1',1:'x_2',2:'x_3'}, inplace = True)\n",
    "df"
   ]
  },
  {
   "cell_type": "markdown",
   "metadata": {},
   "source": [
    "The following chart displays numerical convergence throughout the iterations."
   ]
  },
  {
   "cell_type": "code",
   "execution_count": 13,
   "metadata": {},
   "outputs": [
    {
     "data": {
      "image/png": "[encoded data removed]",
      "text/plain": [
       "<Figure size 432x288 with 1 Axes>"
      ]
     },
     "metadata": {
      "needs_background": "light"
     },
     "output_type": "display_data"
    }
   ],
   "source": [
    "df.plot();"
   ]
  },
  {
   "cell_type": "markdown",
   "metadata": {},
   "source": [
    "### Wielandt deflation"
   ]
  },
  {
   "cell_type": "markdown",
   "metadata": {},
   "source": [
    "Deflation techniques are used to calculate the next eigenvalue after solving for the previous one of the largest modulus. Wieladnt deflation is one of those methods.\n",
    "\n",
    "Official definition here (4.2.1): https://www-users.cs.umn.edu/~saad/eig_book_2ndEd.pdf\n",
    "\n",
    "This method can be applied to several vectors."
   ]
  },
  {
   "cell_type": "code",
   "execution_count": 14,
   "metadata": {},
   "outputs": [
    {
     "name": "stdout",
     "output_type": "stream",
     "text": [
      "Solution:\n",
      "array([ 2.,  1., -1.])\n"
     ]
    }
   ],
   "source": [
    "def original_eigenvectors(A):\n",
    "    '''Converting the numpy matrix to the sympy matrix.'''\n",
    "    '''This is done because numpy's eigenvectors are normalised and sympy's eigenvectos aren't, and we need the non-normalised ones.'''\n",
    "    A = sp.Matrix([[A[0][0],A[0][1],A[0][2]],[A[1][0],A[1][1],A[1][2]],[A[2][0],A[2][1],A[2][2]]])\n",
    "\n",
    "    '''Evaluates the eigenvalues.'''\n",
    "    A_val = A.eigenvals()\n",
    "    \n",
    "    '''Evaluates the non-normalised eigenvectors.'''\n",
    "    A_vec  = A.eigenvects()\n",
    "    A_vec1 = np.array(A_vec[0][2], dtype=float)\n",
    "    A_vec2 = np.array(A_vec[1][2], dtype=float)\n",
    "    A_vec3 = np.array(A_vec[2][2], dtype=float)\n",
    "    \n",
    "    return A_val, A_vec1, A_vec2, A_vec3\n",
    "\n",
    "def WielandtDeflation(A_val, A_vec1, A_vec2, A_vec3):\n",
    "    '''Finds all the eigenvalues and picks out the most dominant one.'''\n",
    "    eigval = LA.eigvals(np.array(A))\n",
    "    dom_eigval = np.amax(eigval)\n",
    "\n",
    "    '''x is defined as 1/lambda(dominant_eigenvalue)*(A[first row]).'''\n",
    "    x = np.array([A[0],A[0],A[0]])\n",
    "    x = (1/dom_eigval)*x\n",
    "\n",
    "    '''v is defined as the eigenvector tied to the dominant eigenvalue.'''\n",
    "    '''This is only transformed into a matrix for matrix multiplication later on.'''\n",
    "    v = np.array([A_vec3[0],A_vec3[0],A_vec3[0]])\n",
    "    v = np.transpose(v)\n",
    "\n",
    "    '''Matrix multiplication. The 2 is there to make sure the multiplication is right. It isn't doing it correctly for some reason.'''\n",
    "    lambda_vx = np.dot(v,x)*2\n",
    "\n",
    "    '''B is defined as A-lambda*v*x**(T) where x**(T) is the transpose of x.'''\n",
    "    B = A - lambda_vx\n",
    "    \n",
    "    '''B' is defined as the B matrix but with the 1st row and column deleted.'''\n",
    "    B_prime = np.array([B[1][1:],B[2][1:]])\n",
    "    \n",
    "    '''Once again finding the dominant eigenvalue of the newly deflated matrix.'''\n",
    "    deflated_eigval = LA.eigvals(np.array(B_prime))\n",
    "    dom_deflated_eigval = np.amax(deflated_eigval)\n",
    "    \n",
    "    return v, x, B_prime, dom_eigval, dom_deflated_eigval\n",
    "\n",
    "def deflated_eigenvectors(B_prime, dom_deflated_eigval):\n",
    "    '''Converting the numpy matrix to the sympy matrix again.'''\n",
    "    '''This is done because numpy's eigenvectors are normalised and sympy's eigenvectors aren't, and we need the non-normalised ones.'''\n",
    "    B_prime = sp.Matrix([[B_prime[0][0],B_prime[0][1]],[B_prime[1][0],B_prime[1][1]]])\n",
    "    \n",
    "    '''Evaluates the non-normalised eigenvectors once again.'''\n",
    "    B_prime_vec  = B_prime.eigenvects()\n",
    "    B_prime_vec1 = np.array(B_prime_vec[0][2], dtype=float)\n",
    "    B_prime_vec2 = np.array(B_prime_vec[1][2], dtype=float)\n",
    "    \n",
    "    return B_prime_vec1, B_prime_vec2\n",
    "\n",
    "def wielandtprocess(v, x, dom_eigval, dom_deflated_eigval, B_prime_vec1, B_prime_vec2):\n",
    "    '''Reconverting the sympy matrix back to the numpy matrix.'''\n",
    "    '''A zero must be added back to the component at the beginning.'''\n",
    "    w2 = np.array([0, B_prime_vec2[0][0], B_prime_vec2[0][1]])\n",
    "    w2 = np.transpose(np.array([w2, w2, w2]))\n",
    "\n",
    "    '''v2 is defined as (original lambda - deflated lambda)*w2 - lambda*(x*w2)*v'''\n",
    "    lambdalambdaw2 = np.transpose((dom_deflated_eigval - dom_eigval)*w2)\n",
    "    lambdaxw2v = np.transpose(dom_eigval*(np.dot(x[0],w2))*v)\n",
    "    \n",
    "    '''The original answer returns a matrix, but we only need any row from it.'''\n",
    "    v2 = (lambdalambdaw2[0]+lambdaxw2v[0])\n",
    "\n",
    "    return v2\n",
    "\n",
    "A = np.array([[4,-1,1],[-1,3,-2],[1,-2,3]])\n",
    "\n",
    "A_val, A_vec1, A_vec2, A_vec3 = original_eigenvectors(A)\n",
    "v, x, B_prime, dom_eigval, dom_deflated_eigval = WielandtDeflation(A_val, A_vec1, A_vec2, A_vec3)\n",
    "B_prime_vec1, B_prime_vec2 = deflated_eigenvectors(B_prime, dom_deflated_eigval)\n",
    "v2 = wielandtprocess(v, x, dom_eigval, dom_deflated_eigval, B_prime_vec1, B_prime_vec2)\n",
    "\n",
    "print('Solution:')\n",
    "pprint(v2)"
   ]
  },
  {
   "cell_type": "markdown",
   "metadata": {},
   "source": [
    "### QR decomposition"
   ]
  },
  {
   "cell_type": "markdown",
   "metadata": {},
   "source": [
    "The QR decomposition method is a form of matrix decomposition that turns a matrix <i>A</i> into a product of\n",
    "- $A = QR$\n",
    "\n",
    "where <i>Q</i> is an orthogonal matrix and <i>R</i> is an upper triangular matrix.\n",
    "\n",
    "Official definition here: https://mathworld.wolfram.com/QRDecomposition.html\n",
    "\n",
    "This method is often used to solve linear least squares problems."
   ]
  },
  {
   "cell_type": "code",
   "execution_count": 15,
   "metadata": {},
   "outputs": [
    {
     "name": "stdout",
     "output_type": "stream",
     "text": [
      "Solution:\n",
      "array([[ 3.60000000e+00,  8.60232527e-01, -1.11022302e-16],\n",
      "       [ 8.60232527e-01,  3.12972973e+00,  8.97403120e-01],\n",
      "       [-3.51083347e-17,  8.97403120e-01,  2.27027027e+00]])\n"
     ]
    }
   ],
   "source": [
    "def QR(A):\n",
    "    '''This is to calculate theta, where the equation is a_21 => -3sin(theta) + cos(theta) = 0.'''\n",
    "    '''Values selected from the matrix are part of the formula.'''\n",
    "    '''Since only sine and cosine are used here, inverse tangent will find the theta value.'''\n",
    "    theta = np.arctan(A[1][0]/A[0][0])\n",
    "    \n",
    "    '''Values for cos and sin.'''\n",
    "    cos = np.cos(theta)\n",
    "    sin = np.sin(theta)\n",
    "    \n",
    "    '''Setting up the dot product for P_2 and A.'''\n",
    "    P_2 = np.array([[cos,sin,0],[-sin,cos,0],[0,0,1]])\n",
    "    P_2A = np.dot(P_2, A)\n",
    "    \n",
    "    '''Setting up A_2 so we can find s_3 and c_3.'''\n",
    "    A_2 = P_2A\n",
    "    s_3 = (A_2[2][1])/np.sqrt((A_2[1][1])**2+(A_2[2][1])**2)\n",
    "    c_3 = (A_2[1][1])/np.sqrt((A_2[1][1])**2+(A_2[2][1])**2)\n",
    "    \n",
    "    '''Setting up P_3 so we can find the dot product of R and Q.'''\n",
    "    P_3 = np.array([[1,0,0],[0,c_3,s_3],[0,-s_3,c_3]])\n",
    "    \n",
    "    '''Setting up new A with the dot product of R and Q.'''\n",
    "    R = np.dot(P_3,A_2)\n",
    "    Q = np.dot(np.transpose(P_2),np.transpose(P_3))\n",
    "    \n",
    "    '''Only doing one step.'''\n",
    "    new_A = np.dot(R,Q)\n",
    "    return new_A\n",
    "    \n",
    "A = np.array([[3,1,0],[1,3,1],[0,1,3]])\n",
    "\n",
    "solution = QR(A)\n",
    "\n",
    "print('Solution:')\n",
    "pprint(solution)"
   ]
  },
  {
   "cell_type": "markdown",
   "metadata": {},
   "source": [
    "### Householder transformation"
   ]
  },
  {
   "cell_type": "markdown",
   "metadata": {},
   "source": [
    "The Householder transformation method takes a vector and reflects it over a plane, and uses this to form the tridiagonal and symmetric matrix. Construct the Householder matrix:\n",
    "- $P = I - 2(v \\otimes w) = I - 2vv^{H}$\n",
    "\n",
    "Official definition here: https://mathworld.wolfram.com/HouseholderMatrix.html\n",
    "\n",
    "So we can continue the process defined as:\n",
    "- $A_{k+1} = P_{k}A_{k}P_{k}$"
   ]
  },
  {
   "cell_type": "code",
   "execution_count": 16,
   "metadata": {},
   "outputs": [
    {
     "name": "stdout",
     "output_type": "stream",
     "text": [
      "Tridiagonal form: Step 1.\n",
      "[[ 4.00000000e+00 -3.00000000e+00  6.66133815e-16 -6.66133815e-16]\n",
      " [-3.00000000e+00  3.33333333e+00  1.00000000e+00  1.33333333e+00]\n",
      " [ 6.66133815e-16  1.00000000e+00  1.66666667e+00 -1.33333333e+00]\n",
      " [-6.66133815e-16  1.33333333e+00 -1.33333333e+00 -1.00000000e+00]]\n",
      "\n",
      "Tridiagonal form: Step 2.\n",
      "[[ 4.00000000e+00 -3.00000000e+00  1.33226763e-16 -9.32587341e-16]\n",
      " [-3.00000000e+00  3.33333333e+00 -1.66666667e+00 -2.33146835e-15]\n",
      " [ 1.33226763e-16 -1.66666667e+00 -1.32000000e+00  9.06666667e-01]\n",
      " [-9.32587341e-16 -2.10942375e-15  9.06666667e-01  1.98666667e+00]]\n",
      "\n"
     ]
    }
   ],
   "source": [
    "def Householder(A, alpha = 0):\n",
    "    '''Let A be the starting matrix and alpha be set to empty so it can accrue.'''\n",
    "\n",
    "    for k in range(2):\n",
    "        '''We are doing two steps so that we end up on A(3) at the end.'''\n",
    "        \n",
    "        '''The is the summation of the values of the array.'''\n",
    "        '''The 1st step skips the 1st value, starts with the 2nd and finished until the end.'''\n",
    "        '''Each step after drops the next value and finishes to the end.'''\n",
    "        for i in range(k+1,len(A[0])):\n",
    "            alpha += (A[i][k])**2\n",
    "\n",
    "        '''The value on the array is ever-moving diagonally downwards, with the negative sign always a constant.'''\n",
    "        '''After that, square root the summation of alpha values for the new alpha value.'''\n",
    "        alpha = -(A[k+1][k])*np.sqrt(alpha)\n",
    "        \n",
    "        '''r is defined as ((1/2)*alpha**2 - (1/2)A(k+1,k)*alpha)**(1/2).'''\n",
    "        r = np.sqrt((0.5)*alpha**2-(0.5)*alpha*(A[k+1][k]))\n",
    "        \n",
    "        '''The difference between w_1 and w_2 is by the steps of the algorithm. Like alpha, subsequent steps skips over the next value with the 1st value always skipped.'''\n",
    "        '''This is originally an array, but it has been changed into a matrix for upcoming multiplication.'''\n",
    "        w_1 = np.array([[0,((A[1][0]-alpha)/(2*r)),(A[2][0]/(2*r)),(A[3][0]/(2*r))],[0,((A[1][0]-alpha)/(2*r)),(A[2][0]/(2*r)),(A[3][0]/(2*r))],[0,((A[1][0]-alpha)/(2*r)),(A[2][0]/(2*r)),(A[3][0]/(2*r))],[0,((A[1][0]-alpha)/(2*r)),(A[2][0]/(2*r)),(A[3][0]/(2*r))]])\n",
    "        w_2 = np.array([[0,0,((A[k+1][k]-alpha)/(2*r)),(A[k+2][k]/(2*r))],[0,0,((A[k+1][k]-alpha)/(2*r)),(A[k+2][k]/(2*r))],[0,0,((A[k+1][k]-alpha)/(2*r)),(A[k+2][k]/(2*r))],[0,0,((A[k+1][k]-alpha)/(2*r)),(A[k+2][k]/(2*r))]])\n",
    "        \n",
    "        '''The following depends on the step.'''\n",
    "        if k == 0:\n",
    "            P = np.diag([1,1,1,1]) - 2*w_1*np.transpose(w_1)\n",
    "        else:\n",
    "            P = np.diag([1,1,1,1]) - 2*w_2*np.transpose(w_2)\n",
    "        \n",
    "        '''Use A(k+1) = P(k)A(k)P(k) to finish up the step where everything is done through the dot product.'''\n",
    "        A = np.dot(np.dot(P,A),P)\n",
    "        \n",
    "        '''Resetting the alpha value.'''\n",
    "        alpha = 0\n",
    "        \n",
    "        print(f'Tridiagonal form: Step {k+1}.')\n",
    "        print(A)\n",
    "        print()\n",
    "\n",
    "A = np.array([[4,1,-2,2],[1,2,0,1],[-2,0,3,-2],[2,1,-2,-1]])\n",
    "solution = Householder(A, alpha = 0)"
   ]
  },
  {
   "cell_type": "markdown",
   "metadata": {},
   "source": [
    "## Further readings:\n",
    "General Q&A over least squares:<br>\n",
    "https://www.quora.com/What-are-the-uses-of-least-square-method\n",
    "\n",
    "Fast Fourier transform and audio compression:<br>\n",
    "http://www.math.utah.edu/~gustafso/s2012/2270/web-projects/Guckert-audio-compression-svd-mdct-MP3.pdf\n",
    "\n",
    "Uses of eigenvalues and eigenvectors in image processing:<br>\n",
    "https://medium.com/swlh/applications-of-linear-algebra-in-image-filters-part-i-operations-aeb64f236845 <br>\n",
    "https://medium.com/@naghemanth/applications-of-linear-algebra-in-image-filters-part-ii-separable-filters-f4635ea9f94f\n",
    "\n",
    "\n",
    "## Useful links:\n",
    "Matrix decomposition calculator:<br>\n",
    "https://www.atozmath.com/MatrixEv.aspx?q=qrdecomphh"
   ]
  }
 ],
 "metadata": {
  "kernelspec": {
   "display_name": "Python 3",
   "language": "python",
   "name": "python3"
  },
  "language_info": {
   "codemirror_mode": {
    "name": "ipython",
    "version": 3
   },
   "file_extension": ".py",
   "mimetype": "text/x-python",
   "name": "python",
   "nbconvert_exporter": "python",
   "pygments_lexer": "ipython3",
   "version": "3.8.1"
  }
 },
 "nbformat": 4,
 "nbformat_minor": 4
}
