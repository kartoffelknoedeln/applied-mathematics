{
 "cells": [
  {
   "cell_type": "markdown",
   "metadata": {},
   "source": [
    "# Numerical approximation"
   ]
  },
  {
   "cell_type": "markdown",
   "metadata": {},
   "source": [
    "- - - - - - - - - - - - - - -"
   ]
  },
  {
   "cell_type": "markdown",
   "metadata": {},
   "source": [
    "Numerical approximation is the application of using computer algorithms to find a(n) (root or eigen-) value or values up to an acceptable error tolerance, which is the numerical variation allowed in results. The following topics will be covered:\n",
    "- Least squares fitting\n",
    "    - Linear\n",
    "    - Nonlinear\n",
    "        - Polynomial\n",
    "        - Euler\n",
    "    - Trigonometric\n",
    "- Fast Fourier transform\n",
    "- Power iteration\n",
    "- Root-finding iteration\n",
    "    - Fixed-point\n",
    "    - Newton\n",
    "    - Broyden\n",
    "    - Steepest descent\n",
    "\n",
    "Further readings and useful links are also provided at the bottom."
   ]
  },
  {
   "cell_type": "markdown",
   "metadata": {},
   "source": [
    "- - - - - - - - - - - - - - -"
   ]
  },
  {
   "cell_type": "markdown",
   "metadata": {},
   "source": [
    "### Least squares fitting"
   ]
  },
  {
   "cell_type": "markdown",
   "metadata": {},
   "source": [
    "Least squares fitting is a method at finding the best-fitting curve given a set of points by minimising the sum of the squares of the offsets of the points from the curve. The fitting methods covered are listed below:\n",
    "- Linear\n",
    "- Polynomial\n",
    "- Euler\n",
    "- Trigonometric\n",
    "\n",
    "Both the linear and polynomial methods already exist in the NumPy library."
   ]
  },
  {
   "cell_type": "code",
   "execution_count": 1,
   "metadata": {},
   "outputs": [],
   "source": [
    "from pprint import pprint\n",
    "import numpy as np\n",
    "from numpy import linalg as LA\n",
    "import scipy.integrate as integrate\n",
    "from scipy import optimize\n",
    "import matplotlib.pyplot as plt\n",
    "import pandas as pd"
   ]
  },
  {
   "cell_type": "markdown",
   "metadata": {},
   "source": [
    "#### Linear"
   ]
  },
  {
   "cell_type": "code",
   "execution_count": 2,
   "metadata": {},
   "outputs": [],
   "source": [
    "def linearLeastSquares(x, y):\n",
    "    '''The linear least-squares algorithm is already part of NumPy's library:'''\n",
    "    '''https://numpy.org/doc/stable/reference/generated/numpy.linalg.lstsq.html'''\n",
    "    A = np.vstack([x, np.ones(len(x))]).T\n",
    "    m, c = np.linalg.lstsq(A, y, rcond=None)[0]\n",
    "\n",
    "    return m, c\n",
    "\n",
    "x = np.array([0, 1, 2, 3, 4, 5, 6, 7, 8, 9, 10])\n",
    "y = np.array([1, 2, 3, 6, 12, 24, 48, 96, 192, 384, 786])"
   ]
  },
  {
   "cell_type": "markdown",
   "metadata": {},
   "source": [
    "The following chart displays the given points and its linear fit."
   ]
  },
  {
   "cell_type": "code",
   "execution_count": 3,
   "metadata": {},
   "outputs": [
    {
     "name": "stdout",
     "output_type": "stream",
     "text": [
      "For y = mx + c, the values \"m\" and \"c\" are:\n",
      "array([  56.69090909, -142.18181818])\n"
     ]
    },
    {
     "data": {
      "image/png": "[encoded data removed]",
      "text/plain": [
       "<Figure size 432x288 with 1 Axes>"
      ]
     },
     "metadata": {
      "needs_background": "light"
     },
     "output_type": "display_data"
    }
   ],
   "source": [
    "m, c = linearLeastSquares(x, y)\n",
    "\n",
    "print('For y = mx + c, the values \"m\" and \"c\" are:')\n",
    "pprint(np.array([m, c]))\n",
    "\n",
    "plt.plot(x, y, 'o', label='Original data', markersize=10)\n",
    "plt.plot(x, m*x + c, 'r', label='Fitted line')\n",
    "plt.legend()\n",
    "plt.show()"
   ]
  },
  {
   "cell_type": "markdown",
   "metadata": {},
   "source": [
    "#### Polynomial"
   ]
  },
  {
   "cell_type": "code",
   "execution_count": 4,
   "metadata": {},
   "outputs": [],
   "source": [
    "def nonlinearPLeastSquares(x, y):\n",
    "    '''The nonlinear least-squares algorithm can be reduced to the polyfit function, which is already part of NumPy's library:'''\n",
    "    '''https://numpy.org/doc/stable/reference/generated/numpy.polyfit.html?highlight=polyfit#numpy.polyfit'''\n",
    "    curve = np.polyfit(x, y, 2)\n",
    "    return curve\n",
    "\n",
    "x = np.array([0, 1, 2, 3, 4, 5, 6, 7, 8, 9, 10])\n",
    "y = np.array([1, 2, 3, 6, 12, 24, 48, 96, 192, 384, 786])"
   ]
  },
  {
   "cell_type": "markdown",
   "metadata": {},
   "source": [
    "The following chart displays the given points and its polynomial fit."
   ]
  },
  {
   "cell_type": "code",
   "execution_count": 5,
   "metadata": {},
   "outputs": [
    {
     "name": "stdout",
     "output_type": "stream",
     "text": [
      "For y = Ax^2 + Bx + C, the values \"A\", \"B\", and \"C\" are:\n",
      "array([ 14.60839161, -89.39300699,  76.94405594])\n"
     ]
    },
    {
     "data": {
      "image/png": "[encoded data removed]",
      "text/plain": [
       "<Figure size 432x288 with 1 Axes>"
      ]
     },
     "metadata": {
      "needs_background": "light"
     },
     "output_type": "display_data"
    }
   ],
   "source": [
    "curve = nonlinearPLeastSquares(x, y)\n",
    "\n",
    "print('For y = Ax^2 + Bx + C, the values \"A\", \"B\", and \"C\" are:')\n",
    "pprint(curve)\n",
    "\n",
    "plt.plot(x, y, 'o', label='Original data', markersize=10)\n",
    "plt.plot(x, curve[0]*x**2 + curve[1]*x + curve[2], 'r', label='Fitted line')\n",
    "plt.legend()\n",
    "plt.show()"
   ]
  },
  {
   "cell_type": "markdown",
   "metadata": {},
   "source": [
    "#### Euler"
   ]
  },
  {
   "cell_type": "code",
   "execution_count": 6,
   "metadata": {},
   "outputs": [],
   "source": [
    "def nonlinearELeastSquares(x, y):\n",
    "    '''For the Euler function, we need to find the length of the array and the natural log of y.'''\n",
    "    m = len(x)\n",
    "    ln_y = np.log(y)\n",
    "    xln_y = x*np.log(y)\n",
    "\n",
    "    '''Variables a and b are dependent on the summations of the following functions.'''\n",
    "    x_sum = np.sum(x)\n",
    "    y_sum = np.sum(y)\n",
    "    x2_sum = np.sum(x**2)\n",
    "    ln_y_sum = np.sum(ln_y)\n",
    "    xln_y_sum = np.sum(xln_y)\n",
    "\n",
    "    '''a is defined as (m*SUM(xln_y) - SUM(x)*SUM(ln_y))/(m*SUM(x**2) - (SUM(x)**2)).'''\n",
    "    a = (m*xln_y_sum - x_sum*ln_y_sum)/(m*x2_sum - (x_sum)**2)\n",
    "    \n",
    "    '''ln(b) is defined as (SUM(x**2)*SUM(xln_y) - SUM(x*ln(y))*SUM(x))/(m*SUM(x**2) - (SUM(x)**2)).'''\n",
    "    ln_b = (x2_sum*ln_y_sum - xln_y_sum*x_sum)/(m*x2_sum - (x_sum)**2)\n",
    "    \n",
    "    '''where b is e**(ln(b)).'''\n",
    "    b = np.exp(ln_b)\n",
    "\n",
    "    return a, b\n",
    "\n",
    "x = np.array([0, 1, 2, 3, 4, 5, 6, 7, 8, 9, 10])\n",
    "y = np.array([1, 2, 3, 6, 12, 24, 48, 96, 192, 384, 786])"
   ]
  },
  {
   "cell_type": "markdown",
   "metadata": {},
   "source": [
    "The following chart displays the given points and its Euler fit."
   ]
  },
  {
   "cell_type": "code",
   "execution_count": 7,
   "metadata": {},
   "outputs": [
    {
     "name": "stdout",
     "output_type": "stream",
     "text": [
      "For y = b*e^(ax), the values \"a\" and \"b\" are:\n",
      "array([0.6706626, 0.8861693])\n"
     ]
    },
    {
     "data": {
      "image/png": "[encoded data removed]",
      "text/plain": [
       "<Figure size 432x288 with 1 Axes>"
      ]
     },
     "metadata": {
      "needs_background": "light"
     },
     "output_type": "display_data"
    }
   ],
   "source": [
    "a, b = nonlinearELeastSquares(x, y)\n",
    "\n",
    "print('For y = b*e^(ax), the values \"a\" and \"b\" are:')\n",
    "pprint(np.array([a, b]))\n",
    "\n",
    "plt.plot(x, y, 'o', label='Original data', markersize=10)\n",
    "plt.plot(x, b*np.exp(a*x), 'r', label='Fitted line')\n",
    "plt.legend()\n",
    "plt.show()"
   ]
  },
  {
   "cell_type": "markdown",
   "metadata": {},
   "source": [
    "#### Trigonometric"
   ]
  },
  {
   "cell_type": "code",
   "execution_count": 8,
   "metadata": {},
   "outputs": [],
   "source": [
    "def trigonometricLeastSquares(f_1, f_2, degree = 2):\n",
    "    a_n = np.zeros([])\n",
    "    b_n = np.zeros([])\n",
    "    \n",
    "    '''For the trigonometric least-squares algorithm, the following integrals will be used.'''\n",
    "    '''The integration function is part of SciPy's library.'''\n",
    "    for i in range(degree + 1):    \n",
    "        a = ((1/np.pi)*integrate.quad(lambda x: f_1[0]*(np.cos(i*x)), f_1[1], f_1[2])[0])+((1/np.pi)*integrate.quad(lambda x: f_2[0]*(np.cos(i*x)), f_2[1], f_2[2])[0])\n",
    "        a_n = np.insert(a_n, i, a)\n",
    "\n",
    "    for j in range(degree):\n",
    "        b = ((1/np.pi)*integrate.quad(lambda x: f_1[0]*(np.sin(i*x)), f_1[1], f_1[2])[0])+((1/np.pi)*integrate.quad(lambda x: f_2[0]*(np.sin(j*x)), f_2[1], f_2[2])[0])\n",
    "        b_n = np.insert(b_n, j, b)\n",
    "\n",
    "    return a_n, b_n\n",
    "\n",
    "f_1 = np.array([0, -np.pi, np.pi/4])\n",
    "f_2 = np.array([3, np.pi/4, np.pi])"
   ]
  },
  {
   "cell_type": "markdown",
   "metadata": {},
   "source": [
    "The following chart displays the given points and its trigonometric fit."
   ]
  },
  {
   "cell_type": "code",
   "execution_count": 9,
   "metadata": {},
   "outputs": [
    {
     "name": "stdout",
     "output_type": "stream",
     "text": [
      "Solution:\n",
      "array([ 2.25      , -0.67523724, -0.47746483,  0.        ])\n"
     ]
    },
    {
     "data": {
      "image/png": "[encoded data removed]",
      "text/plain": [
       "<Figure size 432x288 with 1 Axes>"
      ]
     },
     "metadata": {
      "needs_background": "light"
     },
     "output_type": "display_data"
    }
   ],
   "source": [
    "'''The degree here is set to 2, though it can be set higher if there's a need for it.'''\n",
    "solution = trigonometricLeastSquares(f_1, f_2, degree = 2)\n",
    "\n",
    "print('Solution:')\n",
    "pprint(solution[0])\n",
    "\n",
    "'''Note: solution[0] is a_n and solution[1] is b_n.'''\n",
    "x = np.arange(0, 4*np.pi, 0.1) ##start, stop, step\n",
    "y = (1/2)*solution[0][0] + solution[0][1]*np.cos(x) + solution[1][1]*np.sin(x) + solution[0][2]*np.cos(2*x)\n",
    "\n",
    "plt.plot(x,y)\n",
    "plt.show()"
   ]
  },
  {
   "cell_type": "markdown",
   "metadata": {},
   "source": [
    "### Fast Fourier transform"
   ]
  },
  {
   "cell_type": "markdown",
   "metadata": {},
   "source": [
    "The Fast Fourier transform is an algorithm that calculates the discrete Fourier transform which decomposes functions from the time spectrum into the frequency spectrum. This allows a signal taken from its original domain and determines the dominant frequency across the entire domain. The main algorithm is the <i>Cooley-Tukey algorithm</i>, but a number of others (i.e. <i>Bruun's</i>, <i>Rader's</i>, <i>Bluestein's</i>) also exist.\n",
    "\n",
    "The discrete Fourier transform is defined as:\n",
    "- $x_k = \\sum\\limits_{n = 0}^{N - 1} \\, x_n e^{\\dfrac{-2\\pi ikn}{N}}$\n",
    "\n",
    "where\n",
    "- $N$ is the number of samples\n",
    "- $n$ is the current sample\n",
    "- $x_n$ is the value of the signal at time $n$\n",
    "- $k$ is the current frequency"
   ]
  },
  {
   "cell_type": "code",
   "execution_count": 10,
   "metadata": {},
   "outputs": [],
   "source": [
    "def fft():\n",
    "    '''The Fast Fourier transform algorithm is already part of NumPy's library:'''\n",
    "    '''https://numpy.org/doc/stable/reference/generated/numpy.fft.fft.html'''\n",
    "    t = np.linspace(0, 0.5, 100)\n",
    "    s = 0.5 * np.sin(15 * np.pi * t) + 0.5 * np.cos(100 * np.pi * t)\n",
    "\n",
    "    return t, s\n",
    "\n",
    "t, s = fft()"
   ]
  },
  {
   "cell_type": "markdown",
   "metadata": {},
   "source": [
    "The following chart displays the solution given the frequencies provided."
   ]
  },
  {
   "cell_type": "code",
   "execution_count": 11,
   "metadata": {},
   "outputs": [
    {
     "data": {
      "image/png": "[encoded data removed]",
      "text/plain": [
       "<Figure size 432x288 with 1 Axes>"
      ]
     },
     "metadata": {
      "needs_background": "light"
     },
     "output_type": "display_data"
    }
   ],
   "source": [
    "plt.ylabel(\"Amplitude\")\n",
    "plt.xlabel(\"Time [s]\")\n",
    "plt.plot(t, s)\n",
    "plt.show()"
   ]
  },
  {
   "cell_type": "markdown",
   "metadata": {},
   "source": [
    "### Power iteration"
   ]
  },
  {
   "cell_type": "markdown",
   "metadata": {},
   "source": [
    "Power iteration is a method designed to circumvent the time-consuming efforts to solve polynomials of larger powers, which is also highly sensitive to rounding errors. To start off, find a diagonalisable matrix <i>A</i>'s most dominant eigenvalue, which is defined as:\n",
    "- Let $\\lambda_1, \\lambda_2, \\dots, and \\lambda_n$ be the eigenvalues of an $n \\times n$ matrix <i>A</i>.\n",
    "- $\\lambda_1$ is called the <b>dominant eigenvalue</b> of <i>A</i> if $\\mid \\lambda_1 \\mid > \\mid \\lambda_i \\mid$ for $i = 2, \\dots, n$.\n",
    "\n",
    "Once we have the dominant eigenvalue, the power method is defined as:\n",
    "- $x_k = Ax_{k-1} = A(A^{k-1}x_0) = A^{k}(x_0)$\n",
    "\n",
    "where $x_0$ is the initial approximation of one of the dominant eigenvectors of <i>A</i>."
   ]
  },
  {
   "cell_type": "code",
   "execution_count": 12,
   "metadata": {},
   "outputs": [
    {
     "data": {
      "text/html": [
       "<div>\n",
       "<style scoped>\n",
       "    .dataframe tbody tr th:only-of-type {\n",
       "        vertical-align: middle;\n",
       "    }\n",
       "\n",
       "    .dataframe tbody tr th {\n",
       "        vertical-align: top;\n",
       "    }\n",
       "\n",
       "    .dataframe thead th {\n",
       "        text-align: right;\n",
       "    }\n",
       "</style>\n",
       "<table border=\"1\" class=\"dataframe\">\n",
       "  <thead>\n",
       "    <tr style=\"text-align: right;\">\n",
       "      <th></th>\n",
       "      <th>x_1</th>\n",
       "      <th>x_2</th>\n",
       "      <th>x_3</th>\n",
       "    </tr>\n",
       "  </thead>\n",
       "  <tbody>\n",
       "    <tr>\n",
       "      <th>0</th>\n",
       "      <td>0.138409</td>\n",
       "      <td>0.055364</td>\n",
       "      <td>0.055364</td>\n",
       "    </tr>\n",
       "    <tr>\n",
       "      <th>1</th>\n",
       "      <td>0.066436</td>\n",
       "      <td>0.077509</td>\n",
       "      <td>0.210382</td>\n",
       "    </tr>\n",
       "    <tr>\n",
       "      <th>2</th>\n",
       "      <td>0.096158</td>\n",
       "      <td>0.037880</td>\n",
       "      <td>0.163177</td>\n",
       "    </tr>\n",
       "    <tr>\n",
       "      <th>3</th>\n",
       "      <td>0.081068</td>\n",
       "      <td>0.045477</td>\n",
       "      <td>0.208602</td>\n",
       "    </tr>\n",
       "    <tr>\n",
       "      <th>4</th>\n",
       "      <td>0.079503</td>\n",
       "      <td>0.033586</td>\n",
       "      <td>0.175274</td>\n",
       "    </tr>\n",
       "    <tr>\n",
       "      <th>5</th>\n",
       "      <td>0.076581</td>\n",
       "      <td>0.035721</td>\n",
       "      <td>0.186065</td>\n",
       "    </tr>\n",
       "    <tr>\n",
       "      <th>6</th>\n",
       "      <td>0.076621</td>\n",
       "      <td>0.033415</td>\n",
       "      <td>0.179087</td>\n",
       "    </tr>\n",
       "    <tr>\n",
       "      <th>7</th>\n",
       "      <td>0.076024</td>\n",
       "      <td>0.034017</td>\n",
       "      <td>0.181788</td>\n",
       "    </tr>\n",
       "    <tr>\n",
       "      <th>8</th>\n",
       "      <td>0.076083</td>\n",
       "      <td>0.033513</td>\n",
       "      <td>0.180187</td>\n",
       "    </tr>\n",
       "    <tr>\n",
       "      <th>9</th>\n",
       "      <td>0.075958</td>\n",
       "      <td>0.033674</td>\n",
       "      <td>0.180859</td>\n",
       "    </tr>\n",
       "    <tr>\n",
       "      <th>10</th>\n",
       "      <td>0.075980</td>\n",
       "      <td>0.033560</td>\n",
       "      <td>0.180483</td>\n",
       "    </tr>\n",
       "    <tr>\n",
       "      <th>11</th>\n",
       "      <td>0.075953</td>\n",
       "      <td>0.033602</td>\n",
       "      <td>0.180649</td>\n",
       "    </tr>\n",
       "    <tr>\n",
       "      <th>12</th>\n",
       "      <td>0.075960</td>\n",
       "      <td>0.033575</td>\n",
       "      <td>0.180559</td>\n",
       "    </tr>\n",
       "    <tr>\n",
       "      <th>13</th>\n",
       "      <td>0.075954</td>\n",
       "      <td>0.033586</td>\n",
       "      <td>0.180600</td>\n",
       "    </tr>\n",
       "    <tr>\n",
       "      <th>14</th>\n",
       "      <td>0.075955</td>\n",
       "      <td>0.033580</td>\n",
       "      <td>0.180579</td>\n",
       "    </tr>\n",
       "    <tr>\n",
       "      <th>15</th>\n",
       "      <td>0.075954</td>\n",
       "      <td>0.033582</td>\n",
       "      <td>0.180589</td>\n",
       "    </tr>\n",
       "    <tr>\n",
       "      <th>16</th>\n",
       "      <td>0.075954</td>\n",
       "      <td>0.033581</td>\n",
       "      <td>0.180584</td>\n",
       "    </tr>\n",
       "    <tr>\n",
       "      <th>17</th>\n",
       "      <td>0.075954</td>\n",
       "      <td>0.033582</td>\n",
       "      <td>0.180586</td>\n",
       "    </tr>\n",
       "    <tr>\n",
       "      <th>18</th>\n",
       "      <td>0.075954</td>\n",
       "      <td>0.033581</td>\n",
       "      <td>0.180585</td>\n",
       "    </tr>\n",
       "    <tr>\n",
       "      <th>19</th>\n",
       "      <td>0.075954</td>\n",
       "      <td>0.033581</td>\n",
       "      <td>0.180585</td>\n",
       "    </tr>\n",
       "    <tr>\n",
       "      <th>20</th>\n",
       "      <td>0.075954</td>\n",
       "      <td>0.033581</td>\n",
       "      <td>0.180585</td>\n",
       "    </tr>\n",
       "    <tr>\n",
       "      <th>21</th>\n",
       "      <td>0.075954</td>\n",
       "      <td>0.033581</td>\n",
       "      <td>0.180585</td>\n",
       "    </tr>\n",
       "    <tr>\n",
       "      <th>22</th>\n",
       "      <td>0.075954</td>\n",
       "      <td>0.033581</td>\n",
       "      <td>0.180585</td>\n",
       "    </tr>\n",
       "    <tr>\n",
       "      <th>23</th>\n",
       "      <td>0.075954</td>\n",
       "      <td>0.033581</td>\n",
       "      <td>0.180585</td>\n",
       "    </tr>\n",
       "    <tr>\n",
       "      <th>24</th>\n",
       "      <td>0.075954</td>\n",
       "      <td>0.033581</td>\n",
       "      <td>0.180585</td>\n",
       "    </tr>\n",
       "  </tbody>\n",
       "</table>\n",
       "</div>"
      ],
      "text/plain": [
       "         x_1       x_2       x_3\n",
       "0   0.138409  0.055364  0.055364\n",
       "1   0.066436  0.077509  0.210382\n",
       "2   0.096158  0.037880  0.163177\n",
       "3   0.081068  0.045477  0.208602\n",
       "4   0.079503  0.033586  0.175274\n",
       "5   0.076581  0.035721  0.186065\n",
       "6   0.076621  0.033415  0.179087\n",
       "7   0.076024  0.034017  0.181788\n",
       "8   0.076083  0.033513  0.180187\n",
       "9   0.075958  0.033674  0.180859\n",
       "10  0.075980  0.033560  0.180483\n",
       "11  0.075953  0.033602  0.180649\n",
       "12  0.075960  0.033575  0.180559\n",
       "13  0.075954  0.033586  0.180600\n",
       "14  0.075955  0.033580  0.180579\n",
       "15  0.075954  0.033582  0.180589\n",
       "16  0.075954  0.033581  0.180584\n",
       "17  0.075954  0.033582  0.180586\n",
       "18  0.075954  0.033581  0.180585\n",
       "19  0.075954  0.033581  0.180585\n",
       "20  0.075954  0.033581  0.180585\n",
       "21  0.075954  0.033581  0.180585\n",
       "22  0.075954  0.033581  0.180585\n",
       "23  0.075954  0.033581  0.180585\n",
       "24  0.075954  0.033581  0.180585"
      ]
     },
     "execution_count": 12,
     "metadata": {},
     "output_type": "execute_result"
    }
   ],
   "source": [
    "def PowerMethod(A, b, step = 25):\n",
    "    \n",
    "    '''Let b be the starting vector, and for this example, it'll be done in 25 steps.'''\n",
    "    results = []\n",
    "    \n",
    "    for i in range(step):\n",
    "        '''Updates p as the max value of the array and this is needed to be done through every iteration.'''\n",
    "        p = np.amax(b)\n",
    "        \n",
    "        '''Resets b after dividing the array with the max value.'''\n",
    "        b = b/p\n",
    "        \n",
    "        '''Dot product of the original matrix A and the updated array b.'''\n",
    "        b = A @ b\n",
    "        \n",
    "        results.append(b)\n",
    "    \n",
    "    return results\n",
    "\n",
    "A = np.array([[0,2,1],[1,1,0],[3,0,2]])\n",
    "b = np.array([0,2,1])\n",
    "\n",
    "solution = PowerMethod(A, b, step = 25)\n",
    "\n",
    "df = pd.DataFrame(solution/np.linalg.norm(solution))\n",
    "df.rename(columns = {0:'x_1',1:'x_2',2:'x_3'}, inplace = True)\n",
    "df"
   ]
  },
  {
   "cell_type": "markdown",
   "metadata": {},
   "source": [
    "### Root-finding iteration"
   ]
  },
  {
   "cell_type": "markdown",
   "metadata": {},
   "source": [
    "Root-finding methods are designed to find the roots (or zeroes) of continuous functions. The following methods are covered:\n",
    "- Fixed-point\n",
    "- Newton\n",
    "- Broyden\n",
    "- Steepest descent\n",
    "\n",
    "All methods will be further elaborated in their own section."
   ]
  },
  {
   "cell_type": "markdown",
   "metadata": {},
   "source": [
    "#### Fixed-point"
   ]
  },
  {
   "cell_type": "markdown",
   "metadata": {},
   "source": [
    "The fixed-point method is defined as:\n",
    "- $x_{n+1} = f(x_n)$ for $n = 0, 1, 2, \\dots$\n",
    "\n",
    "which should give rise to a sequence $x_0, x_1, x_2, \\dots$ so that it converges to $f(x) = x$."
   ]
  },
  {
   "cell_type": "code",
   "execution_count": 13,
   "metadata": {},
   "outputs": [
    {
     "data": {
      "text/html": [
       "<div>\n",
       "<style scoped>\n",
       "    .dataframe tbody tr th:only-of-type {\n",
       "        vertical-align: middle;\n",
       "    }\n",
       "\n",
       "    .dataframe tbody tr th {\n",
       "        vertical-align: top;\n",
       "    }\n",
       "\n",
       "    .dataframe thead th {\n",
       "        text-align: right;\n",
       "    }\n",
       "</style>\n",
       "<table border=\"1\" class=\"dataframe\">\n",
       "  <thead>\n",
       "    <tr style=\"text-align: right;\">\n",
       "      <th></th>\n",
       "      <th>x_1</th>\n",
       "      <th>x_2</th>\n",
       "    </tr>\n",
       "  </thead>\n",
       "  <tbody>\n",
       "    <tr>\n",
       "      <th>0</th>\n",
       "      <td>0.111803</td>\n",
       "      <td>0.304079</td>\n",
       "    </tr>\n",
       "    <tr>\n",
       "      <th>1</th>\n",
       "      <td>0.135988</td>\n",
       "      <td>0.266423</td>\n",
       "    </tr>\n",
       "    <tr>\n",
       "      <th>2</th>\n",
       "      <td>0.119148</td>\n",
       "      <td>0.275072</td>\n",
       "    </tr>\n",
       "    <tr>\n",
       "      <th>3</th>\n",
       "      <td>0.123016</td>\n",
       "      <td>0.270318</td>\n",
       "    </tr>\n",
       "    <tr>\n",
       "      <th>4</th>\n",
       "      <td>0.120890</td>\n",
       "      <td>0.271598</td>\n",
       "    </tr>\n",
       "    <tr>\n",
       "      <th>5</th>\n",
       "      <td>0.121462</td>\n",
       "      <td>0.270985</td>\n",
       "    </tr>\n",
       "    <tr>\n",
       "      <th>6</th>\n",
       "      <td>0.121188</td>\n",
       "      <td>0.271168</td>\n",
       "    </tr>\n",
       "    <tr>\n",
       "      <th>7</th>\n",
       "      <td>0.121270</td>\n",
       "      <td>0.271088</td>\n",
       "    </tr>\n",
       "    <tr>\n",
       "      <th>8</th>\n",
       "      <td>0.121234</td>\n",
       "      <td>0.271113</td>\n",
       "    </tr>\n",
       "    <tr>\n",
       "      <th>9</th>\n",
       "      <td>0.121246</td>\n",
       "      <td>0.271103</td>\n",
       "    </tr>\n",
       "    <tr>\n",
       "      <th>10</th>\n",
       "      <td>0.121241</td>\n",
       "      <td>0.271106</td>\n",
       "    </tr>\n",
       "    <tr>\n",
       "      <th>11</th>\n",
       "      <td>0.121242</td>\n",
       "      <td>0.271105</td>\n",
       "    </tr>\n",
       "    <tr>\n",
       "      <th>12</th>\n",
       "      <td>0.121242</td>\n",
       "      <td>0.271105</td>\n",
       "    </tr>\n",
       "    <tr>\n",
       "      <th>13</th>\n",
       "      <td>0.121242</td>\n",
       "      <td>0.271105</td>\n",
       "    </tr>\n",
       "    <tr>\n",
       "      <th>14</th>\n",
       "      <td>0.121242</td>\n",
       "      <td>0.271105</td>\n",
       "    </tr>\n",
       "    <tr>\n",
       "      <th>15</th>\n",
       "      <td>0.121242</td>\n",
       "      <td>0.271105</td>\n",
       "    </tr>\n",
       "    <tr>\n",
       "      <th>16</th>\n",
       "      <td>0.121242</td>\n",
       "      <td>0.271105</td>\n",
       "    </tr>\n",
       "    <tr>\n",
       "      <th>17</th>\n",
       "      <td>0.121242</td>\n",
       "      <td>0.271105</td>\n",
       "    </tr>\n",
       "    <tr>\n",
       "      <th>18</th>\n",
       "      <td>0.121242</td>\n",
       "      <td>0.271105</td>\n",
       "    </tr>\n",
       "    <tr>\n",
       "      <th>19</th>\n",
       "      <td>0.121242</td>\n",
       "      <td>0.271105</td>\n",
       "    </tr>\n",
       "    <tr>\n",
       "      <th>20</th>\n",
       "      <td>0.121242</td>\n",
       "      <td>0.271105</td>\n",
       "    </tr>\n",
       "    <tr>\n",
       "      <th>21</th>\n",
       "      <td>0.121242</td>\n",
       "      <td>0.271105</td>\n",
       "    </tr>\n",
       "    <tr>\n",
       "      <th>22</th>\n",
       "      <td>0.121242</td>\n",
       "      <td>0.271105</td>\n",
       "    </tr>\n",
       "    <tr>\n",
       "      <th>23</th>\n",
       "      <td>0.121242</td>\n",
       "      <td>0.271105</td>\n",
       "    </tr>\n",
       "    <tr>\n",
       "      <th>24</th>\n",
       "      <td>0.121242</td>\n",
       "      <td>0.271105</td>\n",
       "    </tr>\n",
       "  </tbody>\n",
       "</table>\n",
       "</div>"
      ],
      "text/plain": [
       "         x_1       x_2\n",
       "0   0.111803  0.304079\n",
       "1   0.135988  0.266423\n",
       "2   0.119148  0.275072\n",
       "3   0.123016  0.270318\n",
       "4   0.120890  0.271598\n",
       "5   0.121462  0.270985\n",
       "6   0.121188  0.271168\n",
       "7   0.121270  0.271088\n",
       "8   0.121234  0.271113\n",
       "9   0.121246  0.271103\n",
       "10  0.121241  0.271106\n",
       "11  0.121242  0.271105\n",
       "12  0.121242  0.271105\n",
       "13  0.121242  0.271105\n",
       "14  0.121242  0.271105\n",
       "15  0.121242  0.271105\n",
       "16  0.121242  0.271105\n",
       "17  0.121242  0.271105\n",
       "18  0.121242  0.271105\n",
       "19  0.121242  0.271105\n",
       "20  0.121242  0.271105\n",
       "21  0.121242  0.271105\n",
       "22  0.121242  0.271105\n",
       "23  0.121242  0.271105\n",
       "24  0.121242  0.271105"
      ]
     },
     "execution_count": 13,
     "metadata": {},
     "output_type": "execute_result"
    }
   ],
   "source": [
    "def FixedPoint(x, step = 25):\n",
    "    \n",
    "    results = []\n",
    "    \n",
    "    for i in range(step):\n",
    "        \n",
    "        '''Reorganising the system of equations so that we can isolate x_1 and x_2 while fitting in the values of x.'''\n",
    "        x_1 = 1/np.sqrt(5)*x[1]\n",
    "        x_2 = (1/4)*(np.sin(x[0])+np.cos(x[1]))\n",
    "        \n",
    "        '''G is the solution, though afterwards x is reset with the new values of x_1 and x_2 so the loop can meaningfully continue.'''\n",
    "        G = np.array([x_1, x_2])\n",
    "        x = [x_1, x_2]\n",
    "        \n",
    "        results.append(G)\n",
    "        \n",
    "    return results\n",
    "\n",
    "'''A isn't used but there to show the system of equations. x is the point near the solution.'''\n",
    "A = np.array([['5x_1**2 - x_2**2 = 0'],['x_2 - (1/4)(sin(x_1) + cos(x_2)) = 0']])\n",
    "x = [1/4, 1/4]\n",
    "\n",
    "solution = FixedPoint(x, step = 25)\n",
    "\n",
    "df = pd.DataFrame(solution)\n",
    "df.rename(columns = {0:'x_1',1:'x_2'}, inplace = True)\n",
    "df"
   ]
  },
  {
   "cell_type": "markdown",
   "metadata": {},
   "source": [
    "#### Newton"
   ]
  },
  {
   "cell_type": "markdown",
   "metadata": {},
   "source": [
    "Method's method, which finds roots of a differentiable function, is defined as:\n",
    "- $x_{n+1} = x_n - \\dfrac{f(x_n)}{f'(x_n)}$ for $n = 0, 1, 2, \\dots$\n",
    "\n",
    "which should give rise to a sequence $x_0, x_1, x_2, \\dots$ so that it converges to $f(x) = x$."
   ]
  },
  {
   "cell_type": "code",
   "execution_count": 14,
   "metadata": {},
   "outputs": [
    {
     "data": {
      "text/html": [
       "<div>\n",
       "<style scoped>\n",
       "    .dataframe tbody tr th:only-of-type {\n",
       "        vertical-align: middle;\n",
       "    }\n",
       "\n",
       "    .dataframe tbody tr th {\n",
       "        vertical-align: top;\n",
       "    }\n",
       "\n",
       "    .dataframe thead th {\n",
       "        text-align: right;\n",
       "    }\n",
       "</style>\n",
       "<table border=\"1\" class=\"dataframe\">\n",
       "  <thead>\n",
       "    <tr style=\"text-align: right;\">\n",
       "      <th></th>\n",
       "      <th>x_1</th>\n",
       "      <th>x_2</th>\n",
       "      <th>x_3</th>\n",
       "    </tr>\n",
       "  </thead>\n",
       "  <tbody>\n",
       "    <tr>\n",
       "      <th>0</th>\n",
       "      <td>5.000000</td>\n",
       "      <td>37.000000</td>\n",
       "      <td>-39.000000</td>\n",
       "    </tr>\n",
       "    <tr>\n",
       "      <th>1</th>\n",
       "      <td>4.350877</td>\n",
       "      <td>18.491228</td>\n",
       "      <td>-19.842105</td>\n",
       "    </tr>\n",
       "    <tr>\n",
       "      <th>2</th>\n",
       "      <td>5.363824</td>\n",
       "      <td>9.255452</td>\n",
       "      <td>-11.619276</td>\n",
       "    </tr>\n",
       "    <tr>\n",
       "      <th>3</th>\n",
       "      <td>5.696056</td>\n",
       "      <td>4.665328</td>\n",
       "      <td>-7.361384</td>\n",
       "    </tr>\n",
       "    <tr>\n",
       "      <th>4</th>\n",
       "      <td>5.882823</td>\n",
       "      <td>2.427279</td>\n",
       "      <td>-5.310102</td>\n",
       "    </tr>\n",
       "    <tr>\n",
       "      <th>5</th>\n",
       "      <td>5.966095</td>\n",
       "      <td>1.412647</td>\n",
       "      <td>-4.378742</td>\n",
       "    </tr>\n",
       "    <tr>\n",
       "      <th>6</th>\n",
       "      <td>5.995188</td>\n",
       "      <td>1.058566</td>\n",
       "      <td>-4.053754</td>\n",
       "    </tr>\n",
       "    <tr>\n",
       "      <th>7</th>\n",
       "      <td>5.999872</td>\n",
       "      <td>1.001560</td>\n",
       "      <td>-4.001431</td>\n",
       "    </tr>\n",
       "    <tr>\n",
       "      <th>8</th>\n",
       "      <td>6.000000</td>\n",
       "      <td>1.000001</td>\n",
       "      <td>-4.000001</td>\n",
       "    </tr>\n",
       "    <tr>\n",
       "      <th>9</th>\n",
       "      <td>6.000000</td>\n",
       "      <td>1.000000</td>\n",
       "      <td>-4.000000</td>\n",
       "    </tr>\n",
       "    <tr>\n",
       "      <th>10</th>\n",
       "      <td>6.000000</td>\n",
       "      <td>1.000000</td>\n",
       "      <td>-4.000000</td>\n",
       "    </tr>\n",
       "    <tr>\n",
       "      <th>11</th>\n",
       "      <td>6.000000</td>\n",
       "      <td>1.000000</td>\n",
       "      <td>-4.000000</td>\n",
       "    </tr>\n",
       "    <tr>\n",
       "      <th>12</th>\n",
       "      <td>6.000000</td>\n",
       "      <td>1.000000</td>\n",
       "      <td>-4.000000</td>\n",
       "    </tr>\n",
       "    <tr>\n",
       "      <th>13</th>\n",
       "      <td>6.000000</td>\n",
       "      <td>1.000000</td>\n",
       "      <td>-4.000000</td>\n",
       "    </tr>\n",
       "    <tr>\n",
       "      <th>14</th>\n",
       "      <td>6.000000</td>\n",
       "      <td>1.000000</td>\n",
       "      <td>-4.000000</td>\n",
       "    </tr>\n",
       "    <tr>\n",
       "      <th>15</th>\n",
       "      <td>6.000000</td>\n",
       "      <td>1.000000</td>\n",
       "      <td>-4.000000</td>\n",
       "    </tr>\n",
       "    <tr>\n",
       "      <th>16</th>\n",
       "      <td>6.000000</td>\n",
       "      <td>1.000000</td>\n",
       "      <td>-4.000000</td>\n",
       "    </tr>\n",
       "    <tr>\n",
       "      <th>17</th>\n",
       "      <td>6.000000</td>\n",
       "      <td>1.000000</td>\n",
       "      <td>-4.000000</td>\n",
       "    </tr>\n",
       "    <tr>\n",
       "      <th>18</th>\n",
       "      <td>6.000000</td>\n",
       "      <td>1.000000</td>\n",
       "      <td>-4.000000</td>\n",
       "    </tr>\n",
       "    <tr>\n",
       "      <th>19</th>\n",
       "      <td>6.000000</td>\n",
       "      <td>1.000000</td>\n",
       "      <td>-4.000000</td>\n",
       "    </tr>\n",
       "    <tr>\n",
       "      <th>20</th>\n",
       "      <td>6.000000</td>\n",
       "      <td>1.000000</td>\n",
       "      <td>-4.000000</td>\n",
       "    </tr>\n",
       "    <tr>\n",
       "      <th>21</th>\n",
       "      <td>6.000000</td>\n",
       "      <td>1.000000</td>\n",
       "      <td>-4.000000</td>\n",
       "    </tr>\n",
       "    <tr>\n",
       "      <th>22</th>\n",
       "      <td>6.000000</td>\n",
       "      <td>1.000000</td>\n",
       "      <td>-4.000000</td>\n",
       "    </tr>\n",
       "    <tr>\n",
       "      <th>23</th>\n",
       "      <td>6.000000</td>\n",
       "      <td>1.000000</td>\n",
       "      <td>-4.000000</td>\n",
       "    </tr>\n",
       "    <tr>\n",
       "      <th>24</th>\n",
       "      <td>6.000000</td>\n",
       "      <td>1.000000</td>\n",
       "      <td>-4.000000</td>\n",
       "    </tr>\n",
       "  </tbody>\n",
       "</table>\n",
       "</div>"
      ],
      "text/plain": [
       "         x_1        x_2        x_3\n",
       "0   5.000000  37.000000 -39.000000\n",
       "1   4.350877  18.491228 -19.842105\n",
       "2   5.363824   9.255452 -11.619276\n",
       "3   5.696056   4.665328  -7.361384\n",
       "4   5.882823   2.427279  -5.310102\n",
       "5   5.966095   1.412647  -4.378742\n",
       "6   5.995188   1.058566  -4.053754\n",
       "7   5.999872   1.001560  -4.001431\n",
       "8   6.000000   1.000001  -4.000001\n",
       "9   6.000000   1.000000  -4.000000\n",
       "10  6.000000   1.000000  -4.000000\n",
       "11  6.000000   1.000000  -4.000000\n",
       "12  6.000000   1.000000  -4.000000\n",
       "13  6.000000   1.000000  -4.000000\n",
       "14  6.000000   1.000000  -4.000000\n",
       "15  6.000000   1.000000  -4.000000\n",
       "16  6.000000   1.000000  -4.000000\n",
       "17  6.000000   1.000000  -4.000000\n",
       "18  6.000000   1.000000  -4.000000\n",
       "19  6.000000   1.000000  -4.000000\n",
       "20  6.000000   1.000000  -4.000000\n",
       "21  6.000000   1.000000  -4.000000\n",
       "22  6.000000   1.000000  -4.000000\n",
       "23  6.000000   1.000000  -4.000000\n",
       "24  6.000000   1.000000  -4.000000"
      ]
     },
     "execution_count": 14,
     "metadata": {},
     "output_type": "execute_result"
    }
   ],
   "source": [
    "def Newton(x, step = 25):\n",
    "    \n",
    "    results = []\n",
    "    \n",
    "    for i in range(step):\n",
    "        '''J is formed by the derivative of every value within the matrix. This is after the values of the base step are included.'''\n",
    "        J = np.array([[2*x[0],1,0],[1,-2*x[1],0],[1,1,1]])\n",
    "        \n",
    "        '''F is the original matrix with the values of the base step included.'''\n",
    "        F = np.array([[x[0]**2+x[1]-37],[x[0]-x[1]**2-5],[x[0]+x[1]+x[2]-3]])\n",
    "        \n",
    "        '''The original formula is J*y = -F, but using the inverse of J, we can just find y.'''\n",
    "        y = np.linalg.inv(J) @ -F\n",
    "        \n",
    "        '''Defined as G(x) = x - J(x)**(-1)F(x), we are redefining x as just x - J(x)**(-1)F(x).'''\n",
    "        '''The sign has been flipped due to the -F from earlier.'''\n",
    "        x = x + np.array([y[0][0],y[1][0],y[2][0]])\n",
    "        \n",
    "        results.append(x)\n",
    "        \n",
    "    return results\n",
    "\n",
    "'''A isn't used but there to show the system of equations. x is base step to the solution.'''\n",
    "A = np.array([['x_1**2 + x_2 - 37 = 0'],['x_1 - x_2**2 - 5 = 0'],['x_1 + x_2 + x_3 - 3 = 0']])\n",
    "x = [0, 0, 0]\n",
    "\n",
    "solution = Newton(x, step = 25)\n",
    "\n",
    "df = pd.DataFrame(solution)\n",
    "df.rename(columns = {0:'x_1',1:'x_2',2:'x_3'}, inplace = True)\n",
    "df"
   ]
  },
  {
   "cell_type": "markdown",
   "metadata": {},
   "source": [
    "#### Broyden"
   ]
  },
  {
   "cell_type": "markdown",
   "metadata": {},
   "source": [
    "Given the initial starting point $x^{0}$ and the matrix $D_{0}$, find $x^{k+1}$ and $D_{k+1}$ as defined:\n",
    "- $x^{k+1} = x^{k} - D_{k}^{-1}g(x^{(k)})$\n",
    "- $D_{k+1} = D_{k} + \\dfrac{g(x^{(k+1)})(b^{(k)})^{T}}{b^{(k)} \\circ b^{k}}$\n",
    "\n",
    "where $b^{(k)} = x^{(k+1)} - x^{(k)}$."
   ]
  },
  {
   "cell_type": "code",
   "execution_count": 15,
   "metadata": {},
   "outputs": [
    {
     "data": {
      "text/plain": [
       "array([ 6.        ,  1.00000001, -4.00000004])"
      ]
     },
     "execution_count": 15,
     "metadata": {},
     "output_type": "execute_result"
    }
   ],
   "source": [
    "def Broyden(x):\n",
    "    '''Broyden's method is already part of SciPy's library:'''\n",
    "    '''https://docs.scipy.org/doc/scipy/reference/generated/scipy.optimize.broyden1.html'''\n",
    "    return [x[0]**2 + x[1] - 37, x[0] - x[1]**2 - 5, x[0] + x[1] + x[2] - 3]\n",
    "\n",
    "optimize.broyden1(Broyden, [5, 2, 0])"
   ]
  },
  {
   "cell_type": "markdown",
   "metadata": {},
   "source": [
    "#### Steepest descent"
   ]
  },
  {
   "cell_type": "markdown",
   "metadata": {},
   "source": [
    "Given the initial starting point $x^{0}$ and $\\alpha_{init}$, set $\\alpha^{3} = \\alpha^{init}$ to find\n",
    "- $x_{\\alpha_{3}} = x^{(k)} - \\alpha_{3} \\dfrac{\\nabla g(x^{(k)})}{\\mid\\mid \\nabla g(x^{(k)}) \\mid\\mid_{2}}$\n",
    "\n",
    "While $(g(x_{\\alpha_{3}}) \\geq g(x^{(k)}))$, set\n",
    "- $\\alpha_{3} = \\dfrac{1}{2} \\alpha_{3}$\n",
    "\n",
    "and redo $x_{\\alpha_{3}}$. Now find\n",
    "- $x_{\\alpha_{0}} = \\alpha_{0} \\dfrac{\\nabla g(x^{(k)})}{\\mid\\mid \\nabla g(x^{(k)}) \\mid\\mid_{2}}$\n",
    "\n",
    "If $(0 \\leq \\alpha_{0} \\leq \\alpha_{3})$ and $g(x_{\\alpha_{0}}) < g(x_{\\alpha_{3}})$, then\n",
    "- $\\alpha = \\alpha_{0}$\n",
    "- $x^{k+1} = x_{\\alpha_{0}}$\n",
    "\n",
    "otherwise,\n",
    "- $\\alpha = \\alpha_{3}$\n",
    "- $x^{k+1} = x_{\\alpha_{3}}$\n",
    "\n",
    "Ideally we want $x^{(k)} \\rightarrow x_{*}$ as $k \\rightarrow \\infty$, so iterate until $\\mid\\mid \\nabla g(x^{(k)}) \\mid\\mid <$ <i>error tolerance</i>."
   ]
  },
  {
   "cell_type": "code",
   "execution_count": 16,
   "metadata": {},
   "outputs": [
    {
     "data": {
      "text/plain": [
       "array([-4.,  5.])"
      ]
     },
     "execution_count": 16,
     "metadata": {},
     "output_type": "execute_result"
    }
   ],
   "source": [
    "''' Many thanks to https://sophiamyang.medium.com/ for this coding example.'''\n",
    "\n",
    "def is_pos_def(x):\n",
    "    \"\"\"check if a matrix is symmetric positive definite\"\"\"\n",
    "    return np.all(np.linalg.eigvals(x) > 0)\n",
    "\n",
    "def steepest_descent(A, b, x):\n",
    "    \"\"\"\n",
    "    Solve Ax = b\n",
    "    Parameter x: initial values\n",
    "    \"\"\"\n",
    "    if (is_pos_def(A) == False) | (A != A.T).any():\n",
    "        raise ValueError('The matrix A needs to be symmetric positive definite.')\n",
    "    r = b - A @ x\n",
    "    k = 0\n",
    "    while LA.norm(r) > 1e-10 :\n",
    "        p = r\n",
    "        q = A @ p\n",
    "        alpha = (p @ r) / (p @ q)\n",
    "        x = x + alpha * p\n",
    "        r = r - alpha * q\n",
    "        k =+ 1\n",
    "\n",
    "    return x\n",
    "\n",
    "A = np.array([[3, 2], [2, 3]])\n",
    "b = np.array([-2, 7])\n",
    "x0 = np.array([0, 0])\n",
    "\n",
    "steepest_descent(A, b, x0)"
   ]
  },
  {
   "cell_type": "markdown",
   "metadata": {},
   "source": [
    "## Further readings:\n",
    "Reading material:<br>\n",
    "https://www.amazon.com/Numerical-Analysis-Richard-L-Burden/dp/1305253663/ <br>\n",
    "https://www.ritchievink.com/blog/2017/04/23/understanding-the-fourier-transform-by-example/ <br>\n",
    "https://medium.com/dsc-msit/descent-method-steepest-descent-and-conjugate-gradient-in-python-85aa4c4aac7b\n",
    "\n",
    "The @ symbol: <br>\n",
    "https://stackoverflow.com/questions/6392739/what-does-the-at-symbol-do-in-python\n",
    "\n",
    "## Useful links:\n",
    "Quick definitions:<br>\n",
    "https://mathworld.wolfram.com/LeastSquaresFitting.html <br>\n",
    "https://mathworld.wolfram.com/FastFourierTransform.html <br>\n",
    "http://web.mit.edu/18.06/www/Spring17/Power-Method.pdf <br>\n",
    "http://wwwf.imperial.ac.uk/metric/metric_public/numerical_methods/iteration/fixed_point_iteration.html <br>\n",
    "https://mathworld.wolfram.com/NewtonsMethod.html <br>\n",
    "https://faculty.math.illinois.edu/~mlavrov/docs/484-spring-2019/ch3lec6.pdf <br>\n",
    "https://mathworld.wolfram.com/MethodofSteepestDescent.html"
   ]
  }
 ],
 "metadata": {
  "kernelspec": {
   "display_name": "Python 3",
   "language": "python",
   "name": "python3"
  },
  "language_info": {
   "codemirror_mode": {
    "name": "ipython",
    "version": 3
   },
   "file_extension": ".py",
   "mimetype": "text/x-python",
   "name": "python",
   "nbconvert_exporter": "python",
   "pygments_lexer": "ipython3",
   "version": "3.8.1"
  }
 },
 "nbformat": 4,
 "nbformat_minor": 4
}
