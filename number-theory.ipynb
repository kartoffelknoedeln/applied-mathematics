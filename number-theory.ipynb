{
 "cells": [
  {
   "cell_type": "markdown",
   "metadata": {},
   "source": [
    "# Number theory"
   ]
  },
  {
   "cell_type": "markdown",
   "metadata": {},
   "source": [
    "- - - - - - - - - - - - - - -"
   ]
  },
  {
   "cell_type": "markdown",
   "metadata": {},
   "source": [
    "Number theory is an interesting topic, so some of those basic concepts will be covered here. The topics that will be covered are listed below:\n",
    "- Sieve of Eratosthenes\n",
    "- Primitive roots checker\n",
    "- Euler's totient function\n",
    "- Baby-step, giant-step\n",
    "- Miller-Rabin primality test\n",
    "- Square and multiply\n",
    "- Elliptic curve discrete logarithm\n",
    "\n",
    "Further readings and useful links are also provided at the bottom."
   ]
  },
  {
   "cell_type": "markdown",
   "metadata": {},
   "source": [
    "- - - - - - - - - - - - - - -"
   ]
  },
  {
   "cell_type": "markdown",
   "metadata": {},
   "source": [
    "### Sieve of Eratosthenes"
   ]
  },
  {
   "cell_type": "markdown",
   "metadata": {},
   "source": [
    "The sieve of Eratosthenes is an ancient algorithm for finding prime numbers below the value intended. The algorithm first starts with 2, and then it eliminates all multiples of it. It next moves onto 3, and then it eliminates all the multiples of that. It'll keep going until all the multiples have been eliminated, leaving behind the base number which are then all prime."
   ]
  },
  {
   "cell_type": "code",
   "execution_count": 1,
   "metadata": {},
   "outputs": [
    {
     "name": "stdout",
     "output_type": "stream",
     "text": [
      "[2, 3, 5, 7, 11, 13, 17, 19, 23, 29, 31, 37, 41, 43, 47, 53, 59, 61, 67, 71, 73, 79, 83, 89, 97]\n"
     ]
    }
   ],
   "source": [
    "def primes(limit):\n",
    "    sieve = [True] * limit\n",
    "    sieve[0], sieve[1] = False, False\n",
    "\n",
    "    num = 2\n",
    "    while num < limit:\n",
    "        while num < limit and not sieve[num]:\n",
    "            num += 1\n",
    "        for index in range(2*num, limit, num):\n",
    "            sieve[index] = False\n",
    "        num += 1\n",
    "                \n",
    "    return [index for index in range(len(sieve)) if sieve[index] == True]\n",
    "\n",
    "def main():\n",
    "    print(primes(100))\n",
    "\n",
    "main()"
   ]
  },
  {
   "cell_type": "markdown",
   "metadata": {},
   "source": [
    "### Primitive roots checker"
   ]
  },
  {
   "cell_type": "markdown",
   "metadata": {},
   "source": [
    "A prime number is a number that can only be a product of 1 and itself, so numbers such as 2, 3, 5, etc... are prime numbers. A primitive root is an integer <i>g</i> such that <i>g (mod p)</i> has a multiplicative order <i>p-1</i>, where <i>p</i> is prime.\n",
    "\n",
    "The follow code checks if a prime <i>p</i> is a primitive root of an integer <i>g</i>."
   ]
  },
  {
   "cell_type": "code",
   "execution_count": 2,
   "metadata": {},
   "outputs": [
    {
     "name": "stdout",
     "output_type": "stream",
     "text": [
      "Enter the primitive root: 1721\n",
      "Enter the modulo: 5\n",
      "1721 is not a primitive root of 5.\n"
     ]
    }
   ],
   "source": [
    "def moduloFunction(primroot, modulo):\n",
    "    remainderList = []\n",
    "    for i in range(modulo - 1):\n",
    "        remainderList += ((primroot**i) % modulo),\n",
    "    remainderList.sort()\n",
    "    return remainderList\n",
    "\n",
    "def listChecker(sortedlist, modulo):\n",
    "    counter = 1\n",
    "    for i in range(modulo - 1):\n",
    "        if sortedlist[i] == i + 1:\n",
    "            counter += 1\n",
    "    return counter\n",
    "\n",
    "def counterChecker(counter, primroot, modulo):\n",
    "    if counter == modulo:\n",
    "        print(f'{primroot} is a primitive root of {modulo}.')\n",
    "    else:\n",
    "        print(f'{primroot} is not a primitive root of {modulo}.')\n",
    "\n",
    "def main():\n",
    "    primroot = int(input('Enter the primitive root: '))\n",
    "    modulo = int(input('Enter the modulo: '))\n",
    "    moduloFunction(primroot, modulo)\n",
    "    sortedlist = moduloFunction(primroot, modulo)\n",
    "    listChecker(sortedlist, modulo)\n",
    "    counter = listChecker(sortedlist, modulo)\n",
    "    counterChecker(counter, primroot, modulo)\n",
    "\n",
    "main()"
   ]
  },
  {
   "cell_type": "markdown",
   "metadata": {},
   "source": [
    "### Euler's totient function"
   ]
  },
  {
   "cell_type": "markdown",
   "metadata": {},
   "source": [
    "The totient function is defined as the number of positive integers that are relatively prime to <i>n</i>, where 1 is counted as being relatively prime to all numbers. A number less than or equal to and relatively prime to a given number is called a totative, so the function is defined as the number of totatives.\n",
    "\n",
    "For example:\n",
    "- The Euler totient function of 24 is 8, because there are 8 relatively prime numbers less than or equal to 24 (1, 5, 7, 11 ,13, 17, 17, 23).\n",
    "- The Euler totient function of 613 is 612, because 613 is a prime number and every number less than it is relatively prime to it."
   ]
  },
  {
   "cell_type": "code",
   "execution_count": 3,
   "metadata": {},
   "outputs": [
    {
     "name": "stdout",
     "output_type": "stream",
     "text": [
      "Enter a number: 713\n",
      "The totient function of 713 is 660.\n"
     ]
    }
   ],
   "source": [
    "def isNumPrime(num):\n",
    "    for i in range(num // 2, 1, -1):\n",
    "        if num%i == 0:\n",
    "            return False\n",
    "    return True\n",
    "    \n",
    "def factors(num):\n",
    "    i = num\n",
    "    factorList = []\n",
    "    for i in range(round(num/2), 1, -1):\n",
    "        if num%i == 0:\n",
    "            factorList += i,\n",
    "    return factorList\n",
    "\n",
    "def isFactorPrime(factorList):\n",
    "    sortedList = []\n",
    "    for i in range(len(factorList)):\n",
    "        if isNumPrime(factorList[i]) == True:\n",
    "            sortedList += factorList[i],\n",
    "    return sortedList\n",
    "\n",
    "def eulerphiFunction(num, sortedList, checkcheck):\n",
    "    if checkcheck == True:\n",
    "        print(f'The totient function of {num} is {num-1}.')\n",
    "    else:\n",
    "        answer = num\n",
    "        for i in range(len(sortedList)):\n",
    "            faction = 1 - 1/sortedList[i]\n",
    "            answer = answer*faction\n",
    "        print(f'The totient function of {num} is {int(answer)}.')\n",
    "\n",
    "def main():\n",
    "    num = int(input('Enter a number: '))\n",
    "    checkcheck = isNumPrime(num)\n",
    "    factorList = factors(num)\n",
    "    isFactorPrime(factorList)\n",
    "    eulerphivalues = isFactorPrime(factorList)\n",
    "    eulerphiFunction(num, eulerphivalues, checkcheck)\n",
    "\n",
    "main()"
   ]
  },
  {
   "cell_type": "markdown",
   "metadata": {},
   "source": [
    "### Baby-step, giant-step"
   ]
  },
  {
   "cell_type": "markdown",
   "metadata": {},
   "source": [
    "The baby-step, giant step method is an algorithm designed to solve discrete log problems.\n",
    "\n",
    "Given a discrete logarithmic equation, find <i>p</i> of:\n",
    "- Y = g$^x$ <i>(mod p)</i>\n",
    "\n",
    "To do so, first determine the square root of <i>p-1</i> and round it down to the nearest integer <i>m</i>. Map the value of <i>Y</i> for each <i>m</i>, and now do it again by finding <i>n</i> as the inverse power of <i>m</i>:\n",
    "- n = g$^{-m}$ <i>(mod p)</i>\n",
    "\n",
    "and see which numbers match."
   ]
  },
  {
   "cell_type": "code",
   "execution_count": 4,
   "metadata": {},
   "outputs": [
    {
     "name": "stdout",
     "output_type": "stream",
     "text": [
      "This is the baby-step giant-step method to find the discrete log.\n",
      "\n",
      "Enter the base number: 3\n",
      "Enter the modulo number: 37\n",
      "Enter the answer number: 101\n",
      "\n",
      "The answer is 11.\n",
      "The answer is 16.\n"
     ]
    }
   ],
   "source": [
    "def findingGamma(modulo):\n",
    "    gamma = 0\n",
    "    while gamma**2 <= modulo:\n",
    "        gamma += 1\n",
    "    return gamma\n",
    "\n",
    "def reversingPowers(base, gamma, modulo, answer):\n",
    "    numlist = []\n",
    "    for i in range(gamma - 1):\n",
    "        numlist += (answer * (base**(modulo - 1 - (i * gamma)))) % modulo,\n",
    "    return numlist\n",
    "\n",
    "def listNumCheck(numlist, gamma):\n",
    "    for i in range(len(numlist)):\n",
    "        for j in range(1, gamma - 1):\n",
    "            if numlist[i] == 2**j:\n",
    "                print(f'The answer is {i * gamma + j}.')\n",
    "def main():\n",
    "    print('This is the baby-step giant-step method to find the discrete log.\\n')\n",
    "    base = int(input('Enter the base number: '))\n",
    "    modulo = int(input('Enter the modulo number: '))\n",
    "    answer = int(input('Enter the answer number: '))\n",
    "    print()\n",
    "    gamma = findingGamma(modulo)\n",
    "    numlist = reversingPowers(base, gamma, modulo, answer)\n",
    "    listNumCheck(numlist, gamma)\n",
    "\n",
    "main()"
   ]
  },
  {
   "cell_type": "markdown",
   "metadata": {},
   "source": [
    "### Miller-Rabin primality test"
   ]
  },
  {
   "cell_type": "markdown",
   "metadata": {},
   "source": [
    "The Miller-Rabin primality test is an effcient probabilisitic algorithm for determining if a given number is prime base on the properties of strong pseudoprimes.\n",
    "\n",
    "When determining if the number is prime, a witness is used. No composite number is a strong pseudoprime to all bases, but that doesn't mean that only a single witness shall be used. In fact, use a few."
   ]
  },
  {
   "cell_type": "code",
   "execution_count": 5,
   "metadata": {},
   "outputs": [
    {
     "name": "stdout",
     "output_type": "stream",
     "text": [
      "Please enter a number to check if it is composite: 613\n",
      "Please enter a number that is the witness: 19\n",
      "\n",
      "Witness 19 with power 0 does generate a number that is 1 or -1.\n",
      "Witness 19 with power 1 does generate a number that is 1 or -1.\n"
     ]
    }
   ],
   "source": [
    "def checkingByTwo(num):\n",
    "    power = 0\n",
    "    for i in range(1, 10):\n",
    "        if (num - 1)%(2**i) == 0:\n",
    "            power += 1\n",
    "    compositepart = int(num/(2**power))\n",
    "    return compositepart, power\n",
    "\n",
    "def rabinMillerTest(num, compositepart, power, witness):\n",
    "    for i in range(power):\n",
    "        if (witness**((2**i)*compositepart)%num) != 1 and (witness**((2**i)*compositepart)%num) != num - 1:\n",
    "            print(f'Witness {witness} with power {i} does not generate a number that is 1 or -1.')\n",
    "        else:\n",
    "            print(f'Witness {witness} with power {i} does generate a number that is 1 or -1.')\n",
    "\n",
    "def main():\n",
    "    num = int(input('Please enter a number to check if it is composite: '))\n",
    "    witness = int(input('Please enter a number that is the witness: '))\n",
    "    print()\n",
    "    compositepart, power = checkingByTwo(num)\n",
    "    rabinMillerTest(num, compositepart, power, witness)\n",
    "\n",
    "main()"
   ]
  },
  {
   "cell_type": "markdown",
   "metadata": {},
   "source": [
    "### Square and multiply"
   ]
  },
  {
   "cell_type": "markdown",
   "metadata": {},
   "source": [
    "The square and multiply algorithm is an efficient way to calculate large positive integer powers of a number. The exponent is broken down into parts to reduce the amount of steps necessary to calculate larger powers."
   ]
  },
  {
   "cell_type": "code",
   "execution_count": 6,
   "metadata": {},
   "outputs": [
    {
     "name": "stdout",
     "output_type": "stream",
     "text": [
      "Welcome to the square and multiple algorithm.\n",
      "\n",
      "Enter the base number: 12\n",
      "Enter the power number: 444\n",
      "Enter the modulo number: 37\n",
      "\n",
      "The answer is 26.\n"
     ]
    }
   ],
   "source": [
    "def isNumPrime(modulo):\n",
    "    for i in range(modulo // 2, 1, -1):\n",
    "        if modulo % i == 0:\n",
    "            return False\n",
    "    return True\n",
    "    \n",
    "def factors(modulo):\n",
    "    i = modulo\n",
    "    factorList = []\n",
    "    for i in range(modulo // 2, 1, -1):\n",
    "        if modulo % i == 0:\n",
    "            factorList += i,\n",
    "    return factorList\n",
    "\n",
    "def isFactorPrime(factorList):\n",
    "    sortedList = []\n",
    "    for i in range(len(factorList)):\n",
    "        if isNumPrime(factorList[i]) == True:\n",
    "            sortedList += factorList[i],\n",
    "    return sortedList\n",
    "\n",
    "def eulerphiFunction(modulo, sortedList, checkcheck):\n",
    "    if checkcheck == True:\n",
    "        eulerphianswer = modulo - 1\n",
    "        return eulerphianswer\n",
    "    else:\n",
    "        eulerphianswer = modulo\n",
    "        for i in range(len(sortedList)):\n",
    "            faction = 1 - 1/sortedList[i]\n",
    "            eulerphianswer = eulerphianswer*faction\n",
    "        return eulerphianswer\n",
    "\n",
    "def powersBreakdown(power, eulerphianswer):\n",
    "    num = int(power - eulerphianswer)\n",
    "    powers = []\n",
    "    i = 1\n",
    "    while i <= num:\n",
    "        if i & num:\n",
    "            powers.append(i)\n",
    "        i <<= 1\n",
    "    return powers\n",
    "\n",
    "def powersMultiply(powers, base, modulo):\n",
    "    x = 1\n",
    "    for i in range(len(powers)):\n",
    "        x = x * (base**powers[i])\n",
    "    print(f'The answer is {x % modulo}.')\n",
    "\n",
    "def main():\n",
    "    print('Welcome to the square and multiple algorithm.\\n')\n",
    "    base = int(input('Enter the base number: '))\n",
    "    power = int(input('Enter the power number: '))\n",
    "    modulo = int(input('Enter the modulo number: '))\n",
    "    print()\n",
    "    checkcheck = isNumPrime(modulo)\n",
    "    factorList = factors(modulo)\n",
    "    isFactorPrime(factorList)\n",
    "    eulerphivalues = isFactorPrime(factorList)\n",
    "    eulerphianswer = eulerphiFunction(modulo, eulerphivalues, checkcheck)\n",
    "    powers = powersBreakdown(power, eulerphianswer)\n",
    "    powersMultiply(powers, base, modulo)\n",
    "\n",
    "main()"
   ]
  },
  {
   "cell_type": "markdown",
   "metadata": {},
   "source": [
    "### Elliptic curve discrete logarithm"
   ]
  },
  {
   "cell_type": "markdown",
   "metadata": {},
   "source": [
    "The applicatin of number theory goes into some very useful fields, such as cryptography. Elliptic curves are use for key agreements, encryption, and other fields related to digital security.\n",
    "\n",
    "An elliptic curve is a plane curve over a finite field which consist of points that satisfy the equation:\n",
    "- y$^2$ = x$^3$ + ax + b\n",
    "\n",
    "where <i>a</i> and <i>b</i> are integers.\n",
    "\n",
    "Because <i>(x, y)</i> is a point on the curve determined by integers <i>a</i> and <i>b</i>, it makes it very difficult for others to brute-force their way to the point, thus making encryption more secured.\n",
    "\n",
    "The discrete logarithm algorithm takes two points, depending if they are the same points or not, and finds the lambda value used to calculate the next point. The lambda is defined as:\n",
    "- $\\lambda = \\dfrac{3x_1^2 + A}{2y_1}$ if $P_1 = P_2$\n",
    "- $\\lambda = \\dfrac{y_2 - y_1}{x_2 - x_1}$ if $P_1 \\neq P_2$\n",
    "\n",
    "so that the new point coordinates can be defined as:\n",
    "- $x_3 = \\lambda^2 - x_1 - x_2$\n",
    "- $y_3 = \\lambda(x_1 - x_3) - y_1$"
   ]
  },
  {
   "cell_type": "code",
   "execution_count": 7,
   "metadata": {},
   "outputs": [
    {
     "name": "stdout",
     "output_type": "stream",
     "text": [
      "What is the coordinate of x for the point? 4\n",
      "What is the coordinate of y for the point? 2\n",
      "What is the value of A? 1\n",
      "What is the modulo value? 5\n",
      "How many times do you want to iterate through adding? 5\n",
      "\n",
      "We have (3, 4) with 2 steps.\n",
      "We have (2, 4) with 3 steps.\n",
      "We have (0, 4) with 4 steps.\n",
      "We have (0, 1) with 5 steps.\n"
     ]
    }
   ],
   "source": [
    "def lambdaFunctions(point1, point2, a, modulo):\n",
    "    if point1 != point2:\n",
    "        for i in range(modulo):\n",
    "            if ((int(point2[1]) - int(point1[1])) % modulo) == ((int(point2[0]) - int(point1[0])) * i % modulo):\n",
    "                return i\n",
    "    else:\n",
    "        for i in range(modulo):\n",
    "            if (2 * int(point1[1]) * i) % modulo == (3 * int(point1[0])**2 + a) % modulo:\n",
    "                return i\n",
    "\n",
    "def pointsUpdate(point1, point2, i, modulo):\n",
    "    new_x = (i**2 - int(point1[0]) - int(point2[0])) % modulo\n",
    "    new_y = (i * (int(point1[0]) - new_x) - int(point1[1])) % modulo\n",
    "    point2 = new_x, new_y\n",
    "    return point2\n",
    "\n",
    "def main():\n",
    "    point1 = []\n",
    "    point2 = []\n",
    "    x = int(input('What is the coordinate of x for the point? '))\n",
    "    y = int(input('What is the coordinate of y for the point? '))\n",
    "    point1 = x, y\n",
    "    point2 = x, y\n",
    "    a = int(input('What is the value of A? '))\n",
    "    modulo = int(input('What is the modulo value? '))\n",
    "    add = int(input('How many times do you want to iterate through adding? '))\n",
    "    print()\n",
    "\n",
    "    for steps in range(add-1):\n",
    "        i = lambdaFunctions(point1, point2, a, modulo)\n",
    "        point2 = pointsUpdate(point1, point2, i, modulo)\n",
    "        print(f'We have {point2} with {steps+2} steps.')\n",
    "\n",
    "main()"
   ]
  },
  {
   "cell_type": "markdown",
   "metadata": {},
   "source": [
    "## Further readings:\n",
    "Introduction: <br>\n",
    "https://qvault.io/2020/09/17/very-basic-intro-to-elliptic-curve-cryptography/\n",
    "\n",
    "Basic explanation: <br>\n",
    "https://medium.com/@vrypan/explaining-public-key-cryptography-to-non-geeks-f0994b3c2d5 <br>\n",
    "https://andrea.corbellini.name/2015/06/08/elliptic-curve-cryptography-breaking-security-and-a-comparison-with-rsa/\n",
    "\n",
    "## Useful links:\n",
    "Quick definitions: <br>\n",
    "https://mathworld.wolfram.com/SieveofEratosthenes.html <br>\n",
    "https://mathworld.wolfram.com/PrimitiveRoot.html <br>\n",
    "https://mathworld.wolfram.com/TotientFunction.html <br>\n",
    "http://www.cs.umd.edu/~gasarch/COURSES/198/Su14/baby.pdf <br>\n",
    "https://mathworld.wolfram.com/Rabin-MillerStrongPseudoprimeTest.html <br>\n",
    "https://www.coursera.org/lecture/mathematical-foundations-cryptography/square-and-multiply-ty62K <br>\n",
    "https://mathworld.wolfram.com/EllipticCurve.html"
   ]
  }
 ],
 "metadata": {
  "kernelspec": {
   "display_name": "Python 3",
   "language": "python",
   "name": "python3"
  },
  "language_info": {
   "codemirror_mode": {
    "name": "ipython",
    "version": 3
   },
   "file_extension": ".py",
   "mimetype": "text/x-python",
   "name": "python",
   "nbconvert_exporter": "python",
   "pygments_lexer": "ipython3",
   "version": "3.8.1"
  }
 },
 "nbformat": 4,
 "nbformat_minor": 4
}
